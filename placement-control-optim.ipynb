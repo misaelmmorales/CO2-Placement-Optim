{
 "cells": [
  {
   "cell_type": "markdown",
   "metadata": {},
   "source": [
    "# Well Placement and Control Optimization using a spatiotemporal proxy\n",
    "### Misael M. Morales - 2024\n",
    "***"
   ]
  },
  {
   "cell_type": "code",
   "execution_count": 171,
   "metadata": {},
   "outputs": [],
   "source": [
    "import numpy as np\n",
    "import pandas as pd\n",
    "import matplotlib.pyplot as plt\n",
    "\n",
    "import os\n",
    "from skimage.transform import resize\n",
    "from sklearn.preprocessing import MinMaxScaler\n",
    "\n",
    "from scipy.io import savemat, loadmat\n",
    "\n",
    "import torch\n",
    "import torch.nn as nn\n",
    "from neuralop.models import *\n",
    "from torch.utils.data import Dataset, DataLoader, random_split\n",
    "\n",
    "sec2year   = 365.25 * 24 * 60 * 60\n",
    "psi2pascal = 6894.76\n",
    "co2_rho    = 686.5266\n",
    "mega       = 1e6\n",
    "\n",
    "n_timesteps = 33\n",
    "nx, ny, nz  = 100, 100, 11\n",
    "\n",
    "indexMap = loadmat('data_100_100_11/G_cells_indexMap.mat', simplify_cells=True)['gci']\n",
    "Grid = np.zeros((nx,ny,nz)).flatten(order='F')\n",
    "Grid[indexMap] = 1\n",
    "Grid = Grid.reshape(nx,ny,nz, order='F')\n",
    "tops = np.load('data_npy_100_100_11/tops_grid.npz')['tops']"
   ]
  },
  {
   "cell_type": "code",
   "execution_count": 173,
   "metadata": {},
   "outputs": [
    {
     "name": "stdout",
     "output_type": "stream",
     "text": [
      "------------------------------------------------------------\n",
      "----------------------- VERSION INFO -----------------------\n",
      "Torch version: 2.3.1+cu121 | Torch Built with CUDA? True\n",
      "# Device(s) available: 1, Name(s): NVIDIA GeForce RTX 3080\n",
      "------------------------------------------------------------\n"
     ]
    }
   ],
   "source": [
    "def check_torch(verbose:bool=True):\n",
    "    if torch.cuda.is_available():\n",
    "        torch_version, cuda_avail = torch.__version__, torch.cuda.is_available()\n",
    "        count, name = torch.cuda.device_count(), torch.cuda.get_device_name()\n",
    "        if verbose:\n",
    "            print('-'*60)\n",
    "            print('----------------------- VERSION INFO -----------------------')\n",
    "            print('Torch version: {} | Torch Built with CUDA? {}'.format(torch_version, cuda_avail))\n",
    "            print('# Device(s) available: {}, Name(s): {}'.format(count, name))\n",
    "            print('-'*60)\n",
    "        device = torch.device(\"cuda\" if torch.cuda.is_available() else \"cpu\")\n",
    "        return device\n",
    "    else:\n",
    "        torch_version, cuda_avail = torch.__version__, torch.cuda.is_available()\n",
    "        if verbose:\n",
    "            print('-'*60)\n",
    "            print('----------------------- VERSION INFO -----------------------')\n",
    "            print('Torch version: {} | Torch Built with CUDA? {}'.format(torch_version, cuda_avail))\n",
    "            print('-'*60)\n",
    "        device = torch.device('cpu')\n",
    "        return device\n",
    "\n",
    "device = check_torch()"
   ]
  },
  {
   "cell_type": "code",
   "execution_count": 182,
   "metadata": {},
   "outputs": [],
   "source": [
    "class CustomDataset(Dataset):\n",
    "    def __init__(self, data_folder:str='data_npy_100_100_11'):\n",
    "        self.data_folder = data_folder\n",
    "        \n",
    "        self.x_folder = os.path.join(data_folder, 'inputs_rock_rates_locs_time')\n",
    "        self.y_folder = os.path.join(data_folder, 'outputs_pressure_saturation')\n",
    "\n",
    "        self.x_file_list = os.listdir(self.x_folder)\n",
    "        self.y_file_list = os.listdir(self.y_folder)\n",
    "\n",
    "    def __len__(self):\n",
    "        return len(self.x_file_list)\n",
    "    \n",
    "    def __getitem__(self, idx):\n",
    "        x  = np.load(os.path.join(self.x_folder, self.x_file_list[idx]))\n",
    "        y  = np.load(os.path.join(self.y_folder, self.y_file_list[idx]))\n",
    "\n",
    "        xm = np.concatenate([np.expand_dims(x['poro'],0), \n",
    "                             np.expand_dims(x['perm'],0), \n",
    "                             np.expand_dims(np.load('data_npy_100_100_11/tops_grid.npz')['tops'],0)], \n",
    "                             axis=0)\n",
    "        \n",
    "        xw = x['locs']\n",
    "        xc = np.concatenate([np.zeros((1,xw.shape[-1])), x['ctrl']], axis=0)\n",
    "        xt = np.insert(x['time'], 0, 0)\n",
    "        yp = y['pressure']\n",
    "        ys = y['saturation']\n",
    "\n",
    "        return (xm, xw, xc, xt), (yp, ys)"
   ]
  },
  {
   "cell_type": "code",
   "execution_count": null,
   "metadata": {},
   "outputs": [],
   "source": [
    "class FMiONet(nn.Module):\n",
    "    def __init__(self, n_channels:int=100):\n",
    "        super(FMiONet, self).__init__()\n",
    "        self.n_ch = n_channels\n",
    "        self.line1 = nn.Linear(5, self.n_ch)\n",
    "        self.line2 = nn.Linear(2, self.n_ch)\n",
    "        self.line3 = nn.Linear(1, self.n_ch)\n",
    "        self.lift  = nn.Linear(270, 331)\n",
    "        self.conv1 = nn.Conv3d(3, 8, kernel_size=3, padding=1)\n",
    "        self.conv2 = nn.Conv3d(8, 16, kernel_size=3, padding=1)\n",
    "        self.conv3 = nn.Conv3d(16, self.n_ch, kernel_size=3, padding=1)\n",
    "        self.pool1 = nn.MaxPool3d(2)\n",
    "        self.pool2 = nn.MaxPool3d((2,2,1))\n",
    "        self.fno   = FNO1d(n_modes_height=4, n_layers=4, \n",
    "                           fno_block_precision='half', stabilizer='tanh', norm='instance_norm', \n",
    "                           in_channels=33, lifting_channels=64, hidden_channels=128, projection_channels=64, out_channels=33)\n",
    "        \n",
    "    def forward(self, x):\n",
    "        xm, xw, xc, xt = x\n",
    "        b, c, h, w, d = xm.shape\n",
    "        zc = self.line1(xc)\n",
    "        zw = self.line2(xw)\n",
    "        zt = self.line3(xt)\n",
    "\n",
    "        zm = self.pool1(self.conv1(xm))\n",
    "        zm = self.pool1(self.conv2(zm))\n",
    "        zm = self.pool2(self.conv3(zm))\n",
    "        zm = zm.view(zm.shape[0], zm.shape[1], -1)\n",
    "        \n",
    "        b12 = torch.einsum('btc, bwc -> btwc', zc, zw).reshape(b, -1, self.n_ch)\n",
    "        b123 = torch.einsum('bkc, bcp -> bkpc', b12, zm).reshape(b, -1, self.n_ch)\n",
    "        btm = torch.einsum('btc, bkc -> btk', zt, b123).reshape(b, n_timesteps, 88, 270)\n",
    "        \n",
    "        zo = self.lift(btm).reshape(b, n_timesteps, -1)\n",
    "        z = self.fno(zo)\n",
    "        return z\n",
    "    \n",
    "model = FMiONet().to(device)\n",
    "print('# params: {:,}'.format(sum(p.numel() for p in model.parameters() if p.requires_grad)))"
   ]
  },
  {
   "cell_type": "code",
   "execution_count": 183,
   "metadata": {},
   "outputs": [],
   "source": [
    "dataset = CustomDataset()\n",
    "trainset, testset  = random_split(dataset,  [1172, 100])\n",
    "trainset, validset = random_split(trainset, [972,  200])\n",
    "\n",
    "trainloader = DataLoader(trainset, batch_size=4, shuffle=True)\n",
    "validloader = DataLoader(validset, batch_size=4, shuffle=False)\n",
    "testloader  = DataLoader(testset, batch_size=4, shuffle=False)"
   ]
  },
  {
   "cell_type": "code",
   "execution_count": 184,
   "metadata": {},
   "outputs": [
    {
     "name": "stdout",
     "output_type": "stream",
     "text": [
      "torch.Size([4, 3, 100, 100, 11])\n",
      "torch.Size([4, 2, 5])\n",
      "torch.Size([4, 34, 5])\n",
      "torch.Size([4, 34])\n",
      "---\n",
      "torch.Size([4, 34, 29128])\n",
      "torch.Size([4, 34, 29128])\n"
     ]
    }
   ],
   "source": [
    "for i, (x,y) in enumerate(trainloader):\n",
    "    xm, xw, xc, xt = x\n",
    "    yp, ys = y\n",
    "    print(xm.shape)\n",
    "    print(xw.shape)\n",
    "    print(xc.shape)\n",
    "    print(xt.shape)\n",
    "    print('---')\n",
    "    print(yp.shape)\n",
    "    print(ys.shape)\n",
    "    break"
   ]
  },
  {
   "cell_type": "code",
   "execution_count": null,
   "metadata": {},
   "outputs": [],
   "source": []
  },
  {
   "cell_type": "markdown",
   "metadata": {},
   "source": [
    "***\n",
    "# END"
   ]
  }
 ],
 "metadata": {
  "kernelspec": {
   "display_name": "flow",
   "language": "python",
   "name": "python3"
  },
  "language_info": {
   "codemirror_mode": {
    "name": "ipython",
    "version": 3
   },
   "file_extension": ".py",
   "mimetype": "text/x-python",
   "name": "python",
   "nbconvert_exporter": "python",
   "pygments_lexer": "ipython3",
   "version": "3.9.19"
  }
 },
 "nbformat": 4,
 "nbformat_minor": 2
}

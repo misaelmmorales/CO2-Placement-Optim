{
 "cells": [
  {
   "cell_type": "markdown",
   "metadata": {},
   "source": [
    "# Well Placement and Control Optimization using a spatiotemporal proxy\n",
    "### Misael M. Morales - 2024\n",
    "***"
   ]
  },
  {
   "cell_type": "code",
   "execution_count": 586,
   "metadata": {},
   "outputs": [],
   "source": [
    "import numpy as np\n",
    "import pandas as pd\n",
    "import matplotlib.pyplot as plt\n",
    "\n",
    "import os\n",
    "from skimage.transform import resize\n",
    "from sklearn.preprocessing import MinMaxScaler\n",
    "\n",
    "from scipy.io import savemat, loadmat\n",
    "from tqdm import tqdm\n",
    "\n",
    "import tensorflow as tf\n",
    "import keras\n",
    "import keras.backend as K\n",
    "from keras.models import Model\n",
    "from keras.layers import *\n",
    "from keras.activations import *\n",
    "from keras.optimizers import *\n",
    "\n",
    "sec2year   = 365.25 * 24 * 60 * 60\n",
    "psi2pascal = 6894.76\n",
    "co2_rho    = 686.5266\n",
    "mega       = 1e6\n",
    "\n",
    "n_timesteps = 33\n",
    "nx, ny, nz  = 100, 100, 11\n",
    "\n",
    "indexMap = loadmat('data_100_100_11/G_cells_indexMap.mat', simplify_cells=True)['gci']\n",
    "Grid = np.zeros((nx,ny,nz)).flatten(order='F')\n",
    "Grid[indexMap] = 1\n",
    "Grid = Grid.reshape(nx,ny,nz, order='F')\n",
    "Tops = np.load('data_npy_100_100_11/tops_grid.npz')['tops']"
   ]
  },
  {
   "cell_type": "code",
   "execution_count": 604,
   "metadata": {},
   "outputs": [
    {
     "name": "stderr",
     "output_type": "stream",
     "text": [
      "100%|██████████| 250/250 [00:15<00:00, 16.61it/s]\n",
      "100%|██████████| 250/250 [00:00<00:00, 2469.51it/s]"
     ]
    },
    {
     "name": "stdout",
     "output_type": "stream",
     "text": [
      "xm (250, 100, 100, 11, 2)\n",
      "xg (250, 100, 100, 11, 2)\n",
      "xw (250, 2, 5)\n",
      "xc (250, 10, 5)\n",
      "xt (250, 10, 1)\n"
     ]
    },
    {
     "name": "stderr",
     "output_type": "stream",
     "text": [
      "\n"
     ]
    }
   ],
   "source": [
    "n_train = 250\n",
    "n_steps = 10\n",
    "t_steps = np.linspace(0, 25, n_steps, dtype=int)\n",
    "\n",
    "xm = np.zeros((n_train,nx,ny,nz,2))\n",
    "xw = np.zeros((n_train, 2, 5))\n",
    "xc = np.zeros((n_train, n_steps, 5))\n",
    "xt = np.zeros((n_train, n_steps, 1))\n",
    "for i in tqdm(range(n_train)):\n",
    "    d = np.load('data_npy_100_100_11/inputs_rock_rates_locs_time/x_{}.npz'.format(i))\n",
    "    xm[i,...,0] = d['poro']\n",
    "    xm[i,...,1] = d['perm']\n",
    "    xw[i] = d['locs']\n",
    "    xc[i] = d['ctrl'][t_steps]\n",
    "    xt[i] = d['time'][t_steps]\n",
    "\n",
    "xg = np.zeros((n_train,nx,ny,nz,2))\n",
    "for i in range(n_train):\n",
    "    xg[i,...,0] = Grid\n",
    "    xg[i,...,1] = Tops\n",
    "\n",
    "\n",
    "\n",
    "print('xm', xm.shape)\n",
    "print('xg', xg.shape)\n",
    "print('xw', xw.shape)\n",
    "print('xc', xc.shape)\n",
    "print('xt', xt.shape)\n"
   ]
  },
  {
   "cell_type": "code",
   "execution_count": 605,
   "metadata": {},
   "outputs": [],
   "source": [
    "def make_MiONet(n_ch:int=128):\n",
    "    \n",
    "    input_m = Input(shape=(nx,ny,nz,2))\n",
    "    input_g = Input(shape=(nx,ny,nz,2))\n",
    "    input_w = Input(shape=(2,5))\n",
    "    input_c = Input(shape=(None,5))\n",
    "    input_t = Input(shape=(None,1))\n",
    "\n",
    "    def conv_block(ch, inp, pool_size=(2,2,2)):\n",
    "        _ = Conv3D(ch, (3,3,1), padding='same')(inp)\n",
    "        _ = Conv3D(ch, (1,1,3), padding='same')(_)\n",
    "        _ = GroupNormalization(groups=-1)(_)\n",
    "        _ = MaxPooling3D(pool_size)(_)\n",
    "        return gelu(_)\n",
    "    \n",
    "    def time_deconv_block(ch, inp, strides=(2,2,2)):\n",
    "        _ = TimeDistributed(Conv3DTranspose(ch, 3, strides=strides, padding='same'))(inp)\n",
    "        _ = ConvLSTM3D(ch, 3, padding='same', return_sequences=True)(_)\n",
    "        _ = GroupNormalization(groups=-1)(_)\n",
    "        return gelu(_)\n",
    "    \n",
    "    def dense_block(ch, inp):\n",
    "        _ = Dense(ch)(inp)\n",
    "        _ = BatchNormalization()(_)\n",
    "        return gelu(_)\n",
    "\n",
    "    # controls\n",
    "    c = dense_block(n_ch//4, input_c)\n",
    "    c = dense_block(n_ch//2, c)\n",
    "    c = dense_block(n_ch, c)\n",
    "\n",
    "    # locations\n",
    "    w = dense_block(n_ch//4, input_w)\n",
    "    w = dense_block(n_ch//2, w)\n",
    "    w = dense_block(n_ch, w)\n",
    "\n",
    "    # time\n",
    "    t = dense_block(n_ch//4, input_t)\n",
    "    t = dense_block(n_ch//2, t)\n",
    "    t = dense_block(n_ch, t)\n",
    "\n",
    "    # model\n",
    "    m = conv_block(16, input_m)\n",
    "    m = conv_block(128, m)\n",
    "    _, h_, w_, d_, c_ = m.shape\n",
    "    m = Reshape((h_*w_*d_,c_))(m)\n",
    "\n",
    "    # grid\n",
    "    g = conv_block(16, input_g)\n",
    "    g = conv_block(128, g)\n",
    "    _, h_, w_, d_, c_ = g.shape\n",
    "    g = Reshape((h_*w_*d_,c_))(g)\n",
    "\n",
    "    # merge\n",
    "    mg = keras.ops.einsum('bpc,bpc->bpc', m, g)\n",
    "    wc = keras.ops.einsum('bpc,bqc->bqc', w, c)\n",
    "    xx = keras.ops.einsum('btz,bpc->btpc', t, mg)\n",
    "\n",
    "    xx = Reshape((None, h_, w_, d_, c_))(xx)\n",
    "\n",
    "    xx = time_deconv_block(128, xx, strides=(2,2,3))\n",
    "    xx = time_deconv_block(16, xx)\n",
    "    xx = TimeDistributed(Cropping3D(((0,0),(0,0),(0,1))))(xx)\n",
    "\n",
    "    xx = ConvLSTM3D(2, 3, padding='same', return_sequences=True)(xx)\n",
    "    \n",
    "    return Model([input_m, input_g, input_w, input_c, input_t], xx)"
   ]
  },
  {
   "cell_type": "code",
   "execution_count": 577,
   "metadata": {},
   "outputs": [],
   "source": [
    "model = make_MiONet()\n",
    "model.compile(optimizer=AdamW(1e-3, 1e-5), loss='mse', metrics=['mse'])\n",
    "\n",
    "history = model.fit(x=[xm,xg,xw,xc,xt], y=[],\n",
    "                    epochs=30,\n",
    "                    batch_size=8,\n",
    "                    validation_split=0.2,\n",
    "                    verbose=1)"
   ]
  },
  {
   "cell_type": "code",
   "execution_count": null,
   "metadata": {},
   "outputs": [],
   "source": []
  },
  {
   "cell_type": "code",
   "execution_count": null,
   "metadata": {},
   "outputs": [],
   "source": []
  },
  {
   "cell_type": "markdown",
   "metadata": {},
   "source": [
    "***\n",
    "# END"
   ]
  }
 ],
 "metadata": {
  "kernelspec": {
   "display_name": "flow",
   "language": "python",
   "name": "python3"
  },
  "language_info": {
   "codemirror_mode": {
    "name": "ipython",
    "version": 3
   },
   "file_extension": ".py",
   "mimetype": "text/x-python",
   "name": "python",
   "nbconvert_exporter": "python",
   "pygments_lexer": "ipython3",
   "version": "3.9.19"
  }
 },
 "nbformat": 4,
 "nbformat_minor": 2
}

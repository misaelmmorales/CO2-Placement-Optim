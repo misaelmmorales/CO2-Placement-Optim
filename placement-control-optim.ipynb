{
 "cells": [
  {
   "cell_type": "code",
   "execution_count": null,
   "metadata": {},
   "outputs": [],
   "source": [
    "import numpy as np\n",
    "import pandas as pd\n",
    "import matplotlib.pyplot as plt\n",
    "\n",
    "import os\n",
    "from skimage.transform import resize\n",
    "from sklearn.preprocessing import MinMaxScaler\n",
    "\n",
    "from scipy.io import savemat, loadmat"
   ]
  },
  {
   "cell_type": "code",
   "execution_count": null,
   "metadata": {},
   "outputs": [],
   "source": [
    "sec2year   = 365.25 * 24 * 60 * 60\n",
    "psi2pascal = 6894.76\n",
    "co2_rho    = 686.5266\n",
    "mega       = 1e6"
   ]
  },
  {
   "cell_type": "code",
   "execution_count": null,
   "metadata": {},
   "outputs": [],
   "source": [
    "Jfolder = '/mnt/e/Placement-Control-Optim-CO2/Johansen/data'\n",
    "\n",
    "actnum = np.loadtxt('{}/NPD5_ActiveCells.txt'.format(Jfolder), skiprows=1).flatten().reshape(100,100,11, order='F')\n",
    "actnum_pad = np.pad(actnum, ((14,14),(14,14),(2,3)), mode='constant', constant_values=0)\n",
    "\n",
    "actnum_l1 = actnum[...,0]\n",
    "indexMap = np.argwhere(actnum_l1.flatten(order='F')).flatten(order='F')"
   ]
  },
  {
   "cell_type": "code",
   "execution_count": null,
   "metadata": {},
   "outputs": [],
   "source": [
    "rock = loadmat('data_100_100_11/rock/rock_131.mat')\n",
    "poro = np.rot90(rock['poro'], 3)\n",
    "perm = np.rot90(rock['perm'], 3)\n",
    "print('poro: {} | perm: {}'.format(poro.shape, perm.shape))\n",
    "\n",
    "fig, axs = plt.subplots(2, 11, figsize=(20,4), sharex=True, sharey=True)\n",
    "for j in range(11):\n",
    "    p = np.flip(np.ma.masked_where(actnum_l1==0, poro[:,:,j]),1)\n",
    "    k = np.flip(np.ma.masked_where(actnum_l1==0, perm[:,:,j]),1)\n",
    "    im0 = axs[0,j].imshow(p, cmap='jet')\n",
    "    im1 = axs[1,j].imshow(k, cmap='jet')\n",
    "    [plt.colorbar(i, pad=0.04, fraction=0.046) for i in [im0, im1]]\n",
    "    axs[0,j].set_title('Layer {}'.format(j+1))\n",
    "plt.tight_layout()\n",
    "plt.show()"
   ]
  },
  {
   "cell_type": "code",
   "execution_count": null,
   "metadata": {},
   "outputs": [],
   "source": []
  },
  {
   "cell_type": "code",
   "execution_count": null,
   "metadata": {},
   "outputs": [],
   "source": []
  },
  {
   "cell_type": "code",
   "execution_count": null,
   "metadata": {},
   "outputs": [],
   "source": []
  },
  {
   "cell_type": "code",
   "execution_count": null,
   "metadata": {},
   "outputs": [],
   "source": [
    "wc = np.array(list(loadmat('data_100_100_11/well_coords/well_coords_131.mat', simplify_cells=True)['var'].values()))\n",
    "\n",
    "tops = loadmat('data_100_100_11/Gt_cells_z.mat', simplify_cells=True)['gtz']\n",
    "tops_grid = np.zeros((100,100))\n",
    "tops_grid_f = tops_grid.flatten(order='F')\n",
    "tops_grid_f[indexMap] = tops\n",
    "tops_grid = tops_grid_f.reshape(100,100,order='F')\n",
    "tops_grid_masked = np.ma.masked_where(actnum_l1==0, tops_grid)\n",
    "\n",
    "plt.scatter(wc[1,:], wc[0,:], color='k', marker='v', s=50)\n",
    "[plt.text(wc[1,i]+9, wc[0,i], 'Inj{}'.format(i+1), fontsize=12, color='k', ha='right') for i in range(wc.shape[1])]\n",
    "plt.imshow(tops_grid_masked, cmap='jet_r', interpolation='none')\n",
    "plt.colorbar()\n",
    "plt.tight_layout()\n",
    "plt.show()"
   ]
  },
  {
   "cell_type": "code",
   "execution_count": null,
   "metadata": {},
   "outputs": [],
   "source": [
    "n_realizations = 3\n",
    "timesteps = []\n",
    "saturation_f = np.zeros((n_realizations,31,29128))\n",
    "pressure_f   = np.zeros((n_realizations,31,29128))\n",
    "\n",
    "sec2year = 365.25 * 24 * 60 * 60\n",
    "psi2pascal = 6894.76\n",
    "\n",
    "for t in range(1,30):\n",
    "    d = loadmat('data_100_100_11/states/states_0.mat', simplify_cells=True)['var']\n",
    "    timesteps.append(d[t]['time']/sec2year)\n",
    "timesteps = [0] + timesteps\n",
    "\n",
    "for i in range(n_realizations):\n",
    "    d = loadmat('data_100_100_11/states/states_{}.mat'.format(i), simplify_cells=True)['var']\n",
    "    for t in range(len(d)):\n",
    "        saturation_f[i,t] = d[t]['s'][:,1]\n",
    "        pressure_f[i,t]   = d[t]['pressure']"
   ]
  },
  {
   "cell_type": "code",
   "execution_count": null,
   "metadata": {},
   "outputs": [],
   "source": [
    "indexMap = loadmat('data_100_100_11/G_cells_indexMap.mat', simplify_cells=True)['G_cells_indexMap']"
   ]
  },
  {
   "cell_type": "code",
   "execution_count": null,
   "metadata": {},
   "outputs": [],
   "source": [
    "saturation = np.zeros((n_realizations, len(timesteps), 100*100*11))\n",
    "pressure   = np.zeros((n_realizations, len(timesteps), 100*100*11))\n",
    "\n",
    "for i in range(n_realizations):\n",
    "    for t in range(len(timesteps)):\n",
    "        saturation[i,t][indexMap] = saturation_f[i,t][::-1]\n",
    "        pressure[i,t][indexMap]   = pressure_f[i,t] / psi2pascal\n",
    "\n",
    "saturation = saturation.reshape(n_realizations, len(timesteps), 11, 100, 100)\n",
    "pressure   = pressure.reshape(n_realizations, len(timesteps), 11, 100, 100)\n",
    "print(saturation.shape, pressure.shape)"
   ]
  },
  {
   "cell_type": "code",
   "execution_count": null,
   "metadata": {},
   "outputs": [],
   "source": [
    "well_rates = {}\n",
    "for i in range(n_realizations):\n",
    "    d = loadmat('data_100_100_11/VE_states/states_{}.mat'.format(i), simplify_cells=True)['var']\n",
    "    d0 = d[1]['wellSol']\n",
    "    nw = 1 if len(d0) > 3 else len(d0)\n",
    "    wr = np.zeros((len(timesteps), nw))\n",
    "    for w in range(nw):\n",
    "        for t in range(1,len(timesteps)):\n",
    "            wr[t,w] = d[t]['wellSol'][w]['val'] if nw > 1 else  d[t]['wellSol']['val']\n",
    "    well_rates[i] = wr * co2_rho * sec2year / 1e3 / mega"
   ]
  },
  {
   "cell_type": "code",
   "execution_count": null,
   "metadata": {},
   "outputs": [],
   "source": [
    "d131 = loadmat('data_100_100_11/states/states_131.mat', simplify_cells=True)['var']\n",
    "\n",
    "timesteps = []\n",
    "for i in range(39):\n",
    "    t = d131[i]['time']\n",
    "    timesteps.append(t/sec2year)\n",
    "\n",
    "d0 = d131[1]['wellSol']\n",
    "nw = 1 if len(d0) > 3 else len(d0)\n",
    "wr = np.zeros((len(timesteps), nw))\n",
    "for w in range(nw):\n",
    "    for t in range(1,len(timesteps)):\n",
    "        wr[t,w] = d131[t]['wellSol'][w]['val'] if nw > 1 else  d131[t]['wellSol']['val']"
   ]
  },
  {
   "cell_type": "code",
   "execution_count": null,
   "metadata": {},
   "outputs": [],
   "source": [
    "fig, axs = plt.subplots(1, wr.shape[1], figsize=(12,4), sharex=True, sharey=True)\n",
    "for w in range(wr.shape[1]):\n",
    "    ax = axs[w]\n",
    "    ax.set(xlabel='Time [years]', xticks=range(11), xticklabels=range(11), xlim=(0,10), title='Injector {}'.format(w+1))\n",
    "    ax.set_ylabel('Injection rate [Mt CO2/year]', c='r')\n",
    "    ax.grid(True, which='both', alpha=0.5)\n",
    "    ax2 = ax.twinx()\n",
    "    ax2.plot(timesteps[:29], np.cumsum(wr[:29,w]*timesteps[:29]), color='b', marker='.')\n",
    "    ax2.set_ylabel('Cumulative CO2 Injected [Mt]', color='b', rotation=270, labelpad=15)\n",
    "    for t in range(1,29):\n",
    "        ax.plot([timesteps[t-1], timesteps[t]], [wr[t,w], wr[t,w]], 'r')\n",
    "        ax.vlines(timesteps[t], wr[t,w], wr[t+1,w], ls='--', color='k')    \n",
    "plt.tight_layout()\n",
    "plt.show()"
   ]
  },
  {
   "cell_type": "code",
   "execution_count": null,
   "metadata": {},
   "outputs": [],
   "source": []
  },
  {
   "cell_type": "code",
   "execution_count": null,
   "metadata": {},
   "outputs": [],
   "source": []
  },
  {
   "cell_type": "code",
   "execution_count": null,
   "metadata": {},
   "outputs": [],
   "source": [
    "sat0 = np.zeros((100*100*11))\n",
    "pres0 = np.zeros((100*100*11))\n",
    "\n",
    "sat0[indexMap] = np.ma.masked_where(indexMap, d131[-1]['s'][:,1])\n",
    "s0 = np.moveaxis(sat0.reshape(11,100,100), 0, -1)\n",
    "s0 = np.ma.masked_where(actnum==0, s0)\n",
    "\n",
    "pres0[indexMap] = np.ma.masked_where(indexMap, d131[-1]['pressure'])\n",
    "p0 = np.moveaxis(pres0.reshape(11,100,100), 0, -1)\n",
    "p0 = np.ma.masked_where(actnum==0, p0)\n",
    "\n",
    "plt.figure(figsize=(20,6))\n",
    "for i in range(11):\n",
    "    plt.subplot(1, 11, i+1)\n",
    "    plt.imshow(s0[...,i], cmap='jet', vmin=0, vmax=0.7)\n",
    "    plt.scatter(wc[0,:], wc[1,:], color='k', marker='v', s=25)\n",
    "plt.tight_layout()\n",
    "plt.show()\n",
    "\n",
    "plt.figure(figsize=(20,6))\n",
    "for i in range(11):\n",
    "    plt.subplot(1, 11, i+1)\n",
    "    plt.imshow(p0[...,i], cmap='jet_r')\n",
    "    plt.scatter(wc[0,:], wc[1,:], color='k', marker='v', s=25)\n",
    "plt.tight_layout()\n",
    "plt.show()"
   ]
  },
  {
   "cell_type": "code",
   "execution_count": null,
   "metadata": {},
   "outputs": [],
   "source": []
  },
  {
   "cell_type": "code",
   "execution_count": null,
   "metadata": {},
   "outputs": [],
   "source": []
  },
  {
   "cell_type": "code",
   "execution_count": null,
   "metadata": {},
   "outputs": [],
   "source": []
  },
  {
   "cell_type": "code",
   "execution_count": null,
   "metadata": {},
   "outputs": [],
   "source": [
    "realization = 2\n",
    "\n",
    "plt.figure(figsize=(20,7))\n",
    "k = 0\n",
    "for i in range(3):\n",
    "    for j in range(10):\n",
    "        plt.subplot(3,10,k+1)\n",
    "        sat_masked = np.ma.masked_where(actnum_l1==0, saturation[realization,k,5])\n",
    "        im = plt.imshow(sat_masked, cmap='jet', vmin=0, vmax=0.25)\n",
    "        plt.title('t={:.1f}'.format(round(timesteps[k], 2)))\n",
    "        plt.colorbar(im, pad=0.04, fraction=0.046)\n",
    "        plt.xticks([]); plt.yticks([])\n",
    "        k += 1\n",
    "plt.tight_layout()\n",
    "plt.show()"
   ]
  },
  {
   "cell_type": "code",
   "execution_count": null,
   "metadata": {},
   "outputs": [],
   "source": [
    "plt.figure(figsize=(20,7))\n",
    "k = 0\n",
    "for i in range(4):\n",
    "    for j in range(10):\n",
    "        plt.subplot(4,10,k+1)\n",
    "        k += 1\n",
    "        pres_masked = np.ma.masked_where(actnum_l1==0, pressure[realization,k])\n",
    "        im = plt.imshow(pres_masked, cmap='jet')\n",
    "        plt.title('t={:.1f}'.format(round(timesteps[k], 2)))\n",
    "        plt.colorbar(im, pad=0.04, fraction=0.046)\n",
    "        plt.xticks([]); plt.yticks([])\n",
    "plt.tight_layout()\n",
    "plt.show()"
   ]
  },
  {
   "cell_type": "code",
   "execution_count": null,
   "metadata": {},
   "outputs": [],
   "source": [
    "fig, axs = plt.subplots(1, well_rates[realization].shape[1], figsize=(12,4), sharex=True, sharey=True)\n",
    "for w in range(well_rates[realization].shape[1]):\n",
    "    ax = axs[w]\n",
    "    ax.set(xlabel='Time [years]', xticks=range(11), xticklabels=range(11), xlim=(0,10), title='Injector {}'.format(w+1))\n",
    "    ax.set_ylabel('Injection rate [Mt CO2/year]', c='r')\n",
    "    ax.grid(True, which='both', alpha=0.5)\n",
    "    ax2 = ax.twinx()\n",
    "    ax2.plot(timesteps[:20], np.cumsum(well_rates[realization][:20,w]*timesteps[:20]), color='b', marker='.')\n",
    "    ax2.set_ylabel('Cumulative CO2 Injected [Mt]', color='b', rotation=270, labelpad=15)\n",
    "    for t in range(1,21):\n",
    "        ax.plot([timesteps[t-1], timesteps[t]], [well_rates[realization][t,w], well_rates[realization][t,w]], 'r')\n",
    "        ax.vlines(timesteps[t], well_rates[realization][t,w], well_rates[realization][t+1,w], ls='--', color='k')    \n",
    "plt.tight_layout()\n",
    "plt.show()"
   ]
  },
  {
   "cell_type": "code",
   "execution_count": null,
   "metadata": {},
   "outputs": [],
   "source": [
    "report = loadmat('data_100_100_11/VE_reports_NoFlowBC/reports_21.mat', simplify_cells=True)['var']\n",
    "sec2year = 365.25 * 24 * 60 * 60\n",
    "mt_of_co2 = 686.5266 * 1e6\n",
    "\n",
    "t = []\n",
    "for i in range(31):\n",
    "    t.append(report[i]['t']/sec2year)\n",
    "\n",
    "m = np.zeros((31,8))\n",
    "for i in range(31):\n",
    "    for j in range(8):\n",
    "        m[i,j] = report[i]['masses'][j] / mt_of_co2"
   ]
  },
  {
   "cell_type": "code",
   "execution_count": null,
   "metadata": {},
   "outputs": [],
   "source": [
    "colors = ['k','blue','green','lightgreen','gold','c','orange','r']\n",
    "labels = ['dissolved','structural residual', 'residual','residual in plume','structural plume', 'structural plume (t)','free plume', 'exited']\n",
    "\n",
    "for i in range(8):\n",
    "    plt.plot(t, np.cumsum(m, axis=1), color='k', lw=0.25)\n",
    "    plt.fill_between(t, np.cumsum(m, axis=1)[:,i], np.cumsum(m, axis=1)[:,i-1], label=labels[i], color=colors[i])\n",
    "\n",
    "plt.vlines(10, 0, np.cumsum(m,1).max(), color='k', ls='--')\n",
    "plt.text(12, 30, 'end of injection', bbox=dict(facecolor='lightgray', edgecolor='k'))\n",
    "\n",
    "plt.xscale('log')\n",
    "plt.xlim(0.5, 510)\n",
    "plt.legend(bbox_to_anchor=(1.015, 0.5), loc='center left', facecolor='lightgrey', edgecolor='k')\n",
    "plt.xlabel('Time [years]'); plt.ylabel('Mass CO2 [Mt]')\n",
    "plt.grid(True, which='both', alpha=0.33)\n",
    "plt.show()"
   ]
  },
  {
   "cell_type": "code",
   "execution_count": null,
   "metadata": {},
   "outputs": [],
   "source": []
  }
 ],
 "metadata": {
  "kernelspec": {
   "display_name": "flow",
   "language": "python",
   "name": "python3"
  },
  "language_info": {
   "codemirror_mode": {
    "name": "ipython",
    "version": 3
   },
   "file_extension": ".py",
   "mimetype": "text/x-python",
   "name": "python",
   "nbconvert_exporter": "python",
   "pygments_lexer": "ipython3",
   "version": "3.12.3"
  }
 },
 "nbformat": 4,
 "nbformat_minor": 2
}

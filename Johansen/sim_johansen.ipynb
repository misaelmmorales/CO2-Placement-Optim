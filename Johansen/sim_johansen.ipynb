{
 "cells": [
  {
   "cell_type": "code",
   "execution_count": 1,
   "id": "initial_id",
   "metadata": {
    "collapsed": true
   },
   "outputs": [],
   "source": [
    "import numpy as np\n",
    "import pandas as pd\n",
    "import matplotlib.pyplot as plt\n",
    "\n",
    "import pyvista as pv\n",
    "\n",
    "from scipy.io import loadmat"
   ]
  },
  {
   "cell_type": "code",
   "execution_count": 2,
   "id": "ad3c1827",
   "metadata": {},
   "outputs": [
    {
     "name": "stdout",
     "output_type": "stream",
     "text": [
      "(88775,) (88775, 3)\n"
     ]
    }
   ],
   "source": [
    "d = loadmat('johansen_rock.mat', simplify_cells=True)['rock']\n",
    "poro = d['poro']\n",
    "perm = d['perm']\n",
    "print(poro.shape, perm.shape)"
   ]
  },
  {
   "cell_type": "code",
   "execution_count": 26,
   "id": "dab937b6",
   "metadata": {},
   "outputs": [
    {
     "data": {
      "text/plain": [
       "dict_keys(['type', 'griddim', 'nodes', 'cartDims', 'cells', 'faces'])"
      ]
     },
     "execution_count": 26,
     "metadata": {},
     "output_type": "execute_result"
    }
   ],
   "source": [
    "g = loadmat('johansen_grid.mat', simplify_cells=True)['G']\n",
    "g.keys()"
   ]
  },
  {
   "cell_type": "code",
   "execution_count": 29,
   "id": "2cc740ad",
   "metadata": {},
   "outputs": [],
   "source": [
    "actnum = 'data/FullField_ActiveCells.txt'\n",
    "\n",
    "with open(actnum, 'r') as f:\n",
    "    actnum = np.fromfile(f, dtype=np.int32)"
   ]
  },
  {
   "cell_type": "code",
   "execution_count": 30,
   "id": "3ede9076",
   "metadata": {},
   "outputs": [
    {
     "data": {
      "text/plain": [
       "(229804,)"
      ]
     },
     "execution_count": 30,
     "metadata": {},
     "output_type": "execute_result"
    }
   ],
   "source": [
    "actnum.shape"
   ]
  },
  {
   "cell_type": "code",
   "execution_count": 28,
   "id": "af83cbfb",
   "metadata": {},
   "outputs": [
    {
     "data": {
      "text/plain": [
       "(607794,)"
      ]
     },
     "execution_count": 28,
     "metadata": {},
     "output_type": "execute_result"
    }
   ],
   "source": [
    "np.fromfile('data/FullField_Porosity.txt', dtype=np.int32).shape"
   ]
  },
  {
   "cell_type": "code",
   "execution_count": 31,
   "id": "7ddd07e9",
   "metadata": {},
   "outputs": [
    {
     "data": {
      "text/plain": [
       "450576"
      ]
     },
     "execution_count": 31,
     "metadata": {},
     "output_type": "execute_result"
    }
   ],
   "source": [
    "149*189*16"
   ]
  },
  {
   "cell_type": "code",
   "execution_count": null,
   "id": "7cb2a92f",
   "metadata": {},
   "outputs": [],
   "source": []
  }
 ],
 "metadata": {
  "kernelspec": {
   "display_name": "Python 3",
   "language": "python",
   "name": "python3"
  },
  "language_info": {
   "codemirror_mode": {
    "name": "ipython",
    "version": 3
   },
   "file_extension": ".py",
   "mimetype": "text/x-python",
   "name": "python",
   "nbconvert_exporter": "python",
   "pygments_lexer": "ipython3",
   "version": "3.9.18"
  }
 },
 "nbformat": 4,
 "nbformat_minor": 5
}

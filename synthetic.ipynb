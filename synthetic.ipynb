{
 "cells": [
  {
   "cell_type": "code",
   "execution_count": null,
   "metadata": {},
   "outputs": [],
   "source": [
    "import numpy as np\n",
    "import matplotlib.pyplot as plt\n",
    "\n",
    "from scipy.io import loadmat\n",
    "\n",
    "import torch\n",
    "import torch.nn as nn\n",
    "from neuralop.models import *\n",
    "\n",
    "device = torch.device('cuda' if torch.cuda.is_available() else 'cpu')"
   ]
  },
  {
   "cell_type": "code",
   "execution_count": null,
   "metadata": {},
   "outputs": [],
   "source": [
    "n_batch = 16\n",
    "n_timesteps = 33\n",
    "nx, ny, nz = 100, 100, 11"
   ]
  },
  {
   "cell_type": "code",
   "execution_count": null,
   "metadata": {},
   "outputs": [],
   "source": [
    "tsteps = np.concatenate([np.logspace(-3,0,num=10),\n",
    "                         np.linspace(1.5, 10, num=18),\n",
    "                         np.arange(30, 120, step=20)])\n",
    "timesteps = np.expand_dims(np.moveaxis(np.tile(np.expand_dims(tsteps, -1), 16), -1, 0), -1)\n",
    "print(tsteps)"
   ]
  },
  {
   "cell_type": "code",
   "execution_count": null,
   "metadata": {},
   "outputs": [],
   "source": [
    "mask = loadmat('data_100_100_11/G_cells_indexMap.mat')['gci']\n",
    "\n",
    "Grid = np.zeros((nx, ny, nz)).flatten(order='F')\n",
    "Grid[mask] = 1\n",
    "Grid = Grid.reshape(nx, ny, nz, order='F')\n",
    "\n",
    "Grid_ext = np.moveaxis(np.tile(np.expand_dims(Grid, -1), 3), -1, 0)\n",
    "Grid_ext = np.moveaxis(np.tile(np.expand_dims(Grid_ext, -1), n_batch), -1, 0)\n",
    "\n",
    "print('mask: {} | Grid: {} | Grid_ext: {}'.format(mask.shape, Grid.shape, Grid_ext.shape))"
   ]
  },
  {
   "cell_type": "code",
   "execution_count": null,
   "metadata": {},
   "outputs": [],
   "source": [
    "m = np.random.uniform(size=(n_batch, 3, nx, ny, nz))\n",
    "m_flat = m.reshape(n_batch, 3, -1, order='F')\n",
    "\n",
    "Grid_ext_flat = Grid_ext.reshape(n_batch, 3, -1, order='F')\n",
    "\n",
    "m_masked_flat = np.ma.masked_where(Grid_ext_flat==0, m_flat)\n",
    "m_masked = m_masked_flat.reshape(n_batch, 3, nx, ny, nz, order='F')\n",
    "\n",
    "m_ensemble = m_masked[...,5:10]\n",
    "\n",
    "print('Grid_ext_flat: {}'.format(Grid_ext_flat.shape))\n",
    "print('m: {} | m_flat: {} | m_masked: {} | m_ensemble: {}'.format(m.shape, m_flat.shape, m_masked.shape, m_ensemble.shape))\n",
    "\n",
    "fig, axs = plt.subplots(5, 8, figsize=(15,6), sharex=True, sharey=True)\n",
    "for i in range(5):\n",
    "    for j in range(8):\n",
    "        ax = axs[i,j]\n",
    "        ax.imshow(m_ensemble[j,0,:,:,i])\n",
    "        ax.set_title('R{}'.format(j)) if i==0 else None\n",
    "    axs[i,0].set_ylabel('layer {}'.format(i))\n",
    "plt.tight_layout()\n",
    "plt.show()"
   ]
  },
  {
   "cell_type": "code",
   "execution_count": null,
   "metadata": {},
   "outputs": [],
   "source": [
    "well_ctrl = np.zeros((n_batch, n_timesteps, 5))\n",
    "n_wells = []\n",
    "for b in range(n_batch):\n",
    "    nw = np.random.randint(1,6)\n",
    "    n_wells.append(nw)\n",
    "    for w in range(nw):\n",
    "        c = np.concatenate([np.random.uniform(size=(1,28)), np.zeros((1,5))], axis=-1).squeeze()\n",
    "        well_ctrl[b,:,w] = c\n",
    "\n",
    "print('Well Controls: {}'.format(well_ctrl.shape))\n",
    "\n",
    "fig, axs = plt.subplots(1, 10, figsize=(15,6), sharex=True, sharey=True)\n",
    "for j in range(10):\n",
    "    ax = axs[j]\n",
    "    ax.imshow(well_ctrl[j], aspect='auto', cmap='inferno')\n",
    "    ax.set_title('R{}'.format(j))\n",
    "    ax.set(yticks=np.arange(33), xticks=np.arange(5), yticklabels=np.arange(1,34), xticklabels=['W{}'.format(i) for i in range(1,6)])\n",
    "plt.tight_layout()\n",
    "plt.show()"
   ]
  },
  {
   "cell_type": "code",
   "execution_count": null,
   "metadata": {},
   "outputs": [],
   "source": [
    "colors = ['tab:blue','tab:orange','tab:green','tab:red','tab:purple']\n",
    "fig, axs = plt.subplots(2, 3, figsize=(15,6), sharex=True, sharey=True)\n",
    "k = 0\n",
    "for i in range(2):\n",
    "    for j in range(3):\n",
    "        ax = axs[i,j]\n",
    "        for w in range(n_wells[k]):\n",
    "            for t in range(1,n_timesteps):\n",
    "                lh = ax.hlines(well_ctrl[k,t,w], timesteps[k,t-1,:], timesteps[k,t,:], color=colors[w])\n",
    "                lv = ax.vlines(timesteps[k,t-1,:], well_ctrl[k,t-1,w], well_ctrl[k,t,w], ls=':', color='k')\n",
    "        k += 1\n",
    "        ax.set(xscale='log')\n",
    "plt.tight_layout()\n",
    "plt.show()"
   ]
  },
  {
   "cell_type": "code",
   "execution_count": null,
   "metadata": {},
   "outputs": [],
   "source": [
    "well_locs = np.zeros((n_batch, 2, 5), dtype='int')\n",
    "for b in range(n_batch):\n",
    "    nw = n_wells[b]\n",
    "    idx = np.random.randint(0, 100, nw)\n",
    "    idy = np.random.randint(0, 100, nw)\n",
    "    locs = np.array([idx, idy])\n",
    "    for w in range(nw):\n",
    "        well_locs[b,:,w] = locs[:,w]\n",
    "\n",
    "print('Well Locations: {}'.format(well_locs.shape))\n",
    "\n",
    "fig, axs = plt.subplots(1, 10, figsize=(15,6), sharex=True, sharey=True)\n",
    "for j in range(10):\n",
    "    ax = axs[j]\n",
    "    ax.imshow(m_ensemble[j,0,:,:,0])\n",
    "    for w in range(n_wells[j]):\n",
    "        ax.scatter(well_locs[j,1,w], well_locs[j,0,w], c='r', marker='v')\n",
    "    ax.set(title='R{}'.format(j))\n",
    "plt.tight_layout()\n",
    "plt.show()"
   ]
  },
  {
   "cell_type": "code",
   "execution_count": null,
   "metadata": {},
   "outputs": [],
   "source": [
    "xm = torch.tensor(m_ensemble, dtype=torch.float32).to(device)\n",
    "xc = torch.tensor(well_ctrl, dtype=torch.float32).to(device)\n",
    "xw = torch.tensor(well_locs, dtype=torch.float32).permute(0,2,1).to(device)\n",
    "xt = torch.tensor(timesteps, dtype=torch.float32).to(device)\n",
    "print('xm: {}\\nxc: {}\\nxw: {}\\nxt: {}'.format(xm.shape, xc.shape, xw.shape, xt.shape))"
   ]
  },
  {
   "cell_type": "code",
   "execution_count": null,
   "metadata": {},
   "outputs": [],
   "source": [
    "class FMiONet(nn.Module):\n",
    "    def __init__(self, n_channels:int=100):\n",
    "        super(FMiONet, self).__init__()\n",
    "        self.n_ch = n_channels\n",
    "        self.line1 = nn.Linear(5, self.n_ch)\n",
    "        self.line2 = nn.Linear(2, self.n_ch)\n",
    "        self.line3 = nn.Linear(1, self.n_ch)\n",
    "        self.lift  = nn.Linear(270, 331)\n",
    "        self.conv1 = nn.Conv3d(3, 8, kernel_size=3, padding=1)\n",
    "        self.conv2 = nn.Conv3d(8, 16, kernel_size=3, padding=1)\n",
    "        self.conv3 = nn.Conv3d(16, self.n_ch, kernel_size=3, padding=1)\n",
    "        self.pool1 = nn.MaxPool3d(2)\n",
    "        self.pool2 = nn.MaxPool3d((2,2,1))\n",
    "        self.fno   = FNO1d(n_modes_height=4, n_layers=4, \n",
    "                           fno_block_precision='half', stabilizer='tanh', norm='instance_norm', \n",
    "                           in_channels=33, lifting_channels=64, hidden_channels=128, projection_channels=64, out_channels=33)\n",
    "        \n",
    "    def forward(self, x):\n",
    "        xm, xc, xw, xt = x\n",
    "        zc = self.line1(xc)\n",
    "        zw = self.line2(xw)\n",
    "        zt = self.line3(xt)\n",
    "\n",
    "        zm = self.pool1(self.conv1(xm))\n",
    "        zm = self.pool1(self.conv2(zm))\n",
    "        zm = self.pool2(self.conv3(zm))\n",
    "        zm = zm.view(zm.shape[0], zm.shape[1], -1)\n",
    "        \n",
    "        b12 = torch.einsum('btc, bwc -> btwc', zc, zw).reshape(n_batch, -1, self.n_ch)\n",
    "        b123 = torch.einsum('bkc, bcp -> bkpc', b12, zm).reshape(n_batch, -1, self.n_ch)\n",
    "        btm = torch.einsum('btc, bkc -> btk', zt, b123).reshape(n_batch, n_timesteps, 88, 270)\n",
    "        \n",
    "        zo = self.lift(btm).reshape(n_batch, n_timesteps, -1)\n",
    "        z = self.fno(zo)\n",
    "        return z\n",
    "    \n",
    "model = FMiONet().to(device)\n",
    "print('# params: {:,}'.format(sum(p.numel() for p in model.parameters() if p.requires_grad)))"
   ]
  },
  {
   "cell_type": "code",
   "execution_count": null,
   "metadata": {},
   "outputs": [],
   "source": [
    "y_pred = model((xm, xc, xw, xt))\n",
    "print('y_pred: {}'.format(y_pred.shape))"
   ]
  },
  {
   "cell_type": "code",
   "execution_count": null,
   "metadata": {},
   "outputs": [],
   "source": [
    "y_grid = np.zeros((n_batch, n_timesteps, nx, ny, nz)).reshape(n_batch, n_timesteps, -1, order='F')\n",
    "y_grid[:,:,mask.squeeze()] =  y_pred.detach().cpu().numpy().reshape(n_batch, n_timesteps, -1, order='F')\n",
    "y_pred_semimasked = y_grid.reshape(n_batch, n_timesteps, nx, ny, nz, order='F')\n",
    "\n",
    "print(y_pred_semimasked.shape)"
   ]
  },
  {
   "cell_type": "code",
   "execution_count": null,
   "metadata": {},
   "outputs": [],
   "source": [
    "gg = np.repeat(np.expand_dims(np.repeat(np.expand_dims(Grid, 0), n_timesteps, 0), 0), n_batch, 0)\n",
    "y_pred_masked = np.ma.masked_where(gg==0, y_pred_semimasked)[...,5:10]\n",
    "print(y_pred_masked.shape)"
   ]
  },
  {
   "cell_type": "code",
   "execution_count": null,
   "metadata": {},
   "outputs": [],
   "source": [
    "fig, axs = plt.subplots(4, 11, figsize=(15,5), sharex=True, sharey=True)\n",
    "for i in range(4):\n",
    "    for j in range(11):\n",
    "        ax = axs[i,j]\n",
    "        p = j*3\n",
    "        ax.imshow(y_pred_masked[i, p, :, :, 0])\n",
    "plt.tight_layout()\n",
    "plt.show()"
   ]
  },
  {
   "cell_type": "markdown",
   "metadata": {},
   "source": [
    "***\n",
    "# END"
   ]
  }
 ],
 "metadata": {
  "kernelspec": {
   "display_name": "rapid",
   "language": "python",
   "name": "python3"
  },
  "language_info": {
   "codemirror_mode": {
    "name": "ipython",
    "version": 3
   },
   "file_extension": ".py",
   "mimetype": "text/x-python",
   "name": "python",
   "nbconvert_exporter": "python",
   "pygments_lexer": "ipython3",
   "version": "3.9.19"
  }
 },
 "nbformat": 4,
 "nbformat_minor": 2
}

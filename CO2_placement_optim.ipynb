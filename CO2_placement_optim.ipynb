{
 "cells": [
  {
   "cell_type": "code",
   "execution_count": 1,
   "metadata": {},
   "outputs": [],
   "source": [
    "import numpy as np\n",
    "import pandas as pd\n",
    "import matplotlib.pyplot as plt\n",
    "from scipy.io import loadmat"
   ]
  },
  {
   "cell_type": "code",
   "execution_count": 57,
   "metadata": {},
   "outputs": [],
   "source": [
    "def plot_well_locs(wdata, kdata, figsize=(4,4), color='k', cmap='jet', title='Random Well Locations', xlab='X index', ylab='Y index'):\n",
    "    plt.figure(figsize=figsize)\n",
    "    plt.scatter(wdata[:,0], wdata[:,1], c=color)\n",
    "    plt.imshow(kdata, cmap=cmap, aspect='auto')\n",
    "    plt.xlabel(xlab); plt.ylabel(ylab)\n",
    "    plt.title(title)\n",
    "    plt.show()\n",
    "    \n",
    "def plot_bhps(bhpdata, timedata, realization, figsize=(6,4), title='BHP vs. Time', xlab='Time [yrs]', ylab='BHP [psia]'):\n",
    "    plt.figure(figsize=figsize)\n",
    "    for k in realization:\n",
    "        plt.plot(timedata, bhpdata[k], label='Realization {}'.format(k))\n",
    "    plt.title(title); plt.legend(); plt.grid('on'); plt.xlabel(xlab); plt.ylabel(ylab)\n",
    "    plt.show()\n",
    "    \n",
    "def plot_static(poro, perm, well_loc, ncols, multiplier, cmaps=['jet','jet'], figsize=(15,5)):\n",
    "    logpermx = np.log10(perm[:,:,0])\n",
    "    fig, axs = plt.subplots(2, ncols, figsize=figsize, facecolor='white')\n",
    "    for j in range(ncols):\n",
    "        k = j*multiplier\n",
    "        im0 = axs[0,j].imshow(poro, cmap=cmaps[0])\n",
    "        im1 = axs[1,j].imshow(logpermx, cmap=cmaps[1])\n",
    "        axs[0,j].set(title='Realization {}'.format(k))\n",
    "        for i in range(2):\n",
    "            axs[i,j].scatter(well_loc[k][0], well_loc[k][1], c='k', marker='o')\n",
    "            axs[i,j].set(xticks=[], yticks=[])\n",
    "    axs[0,0].set(ylabel='Porosity'); axs[1,0].set(ylabel='LogPerm_x') \n",
    "    plt.colorbar(im0, label='$\\phi$ [v/v]'); plt.colorbar(im1, label='$log(k_x)$ [log-mD]')\n",
    "\n",
    "def plot_dynamic(data, well_loc, ncols, multiplier, cmap='jet', figsize=(18,4), title='Dynamic'):\n",
    "    j_timesteps = np.insert(np.linspace(0, 60, 13, dtype='int')[1:]-1, 0, 0)\n",
    "    k = 0 \n",
    "    fig, axs = plt.subplots(ncols, 13, figsize=figsize)\n",
    "    plt.suptitle(title)\n",
    "    for i in range(ncols):\n",
    "        for j in range(13):\n",
    "            axs[i,j].imshow(data[k,:,:,j_timesteps[j]], cmap=cmap)\n",
    "            axs[i,j].scatter(well_loc[k][0], well_loc[k][1], c='k', marker='o')\n",
    "            axs[0,j].set(title='t={}'.format(j_timesteps[j]+1))\n",
    "            axs[i,0].set(ylabel='n={}'.format(k))\n",
    "            axs[i,j].set(xticks=[], yticks=[])\n",
    "        k += multiplier\n",
    "\n",
    "def load_data(nx=32, ny=32, nt=60, nR=100, save=False, verbose=True):\n",
    "    logperm    = np.array(pd.read_csv('simulations/perm_realization.csv')).reshape(nx,ny)\n",
    "    perm       = loadmat('data_mat/permeability.mat')['permeability'].reshape(nx,ny,3)\n",
    "    poro       = loadmat('data_mat/porosity.mat')['poro'].reshape(nx,ny)\n",
    "    timesteps  = loadmat('data_mat/time_yr.mat')['cum_time']\n",
    "    bhp        = loadmat('data_mat/bhp.mat')['bhp']\n",
    "    pressure   = loadmat('data_mat/pressure.mat')['pressure'].reshape(nR,nx,ny,nt)\n",
    "    saturation = loadmat('data_mat/saturation.mat')['saturation'].reshape(nR,nx,ny,nt)\n",
    "    \n",
    "    well_locs  = loadmat('data_mat/well_locations.mat')['well_locations']\n",
    "    well_locs_mask = np.zeros((nR,nx,ny))\n",
    "    for i in range(nR):\n",
    "        well_locs_mask[i, well_locs[i][0], well_locs[i][1]] = 1\n",
    "        \n",
    "    if save:\n",
    "        np.save('data_npy/timesteps.npy', timesteps); np.save('data_npy/bhp.npy', bhp)\n",
    "        np.save('data_npy/well_locs.npy', well_locs); np.save('data_npy/well_locs_mask.npy', well_locs_mask)\n",
    "        np.save('data_npy/poro.npy', poro);           np.save('data_npy/perm.npy', perm)\n",
    "        np.save('data_npy/pressure.npy', pressure);   np.save('data_npy/saturation.npy', saturation)\n",
    "        \n",
    "    if verbose:\n",
    "        print('Log-Perm: {}'.format(logperm.shape))\n",
    "        print('Permeability: {} | Porosity: {}'.format(perm.shape, poro.shape))\n",
    "        print('Pressure: {} | Saturation: {}'.format(pressure.shape, saturation.shape))\n",
    "        print('Timesteps: {} | BHP: {}'.format(timesteps.shape, bhp.shape))\n",
    "        print('Well Locations: {} | Well Locations MASK: {}'.format(well_locs.shape, well_locs_mask.shape))\n",
    "        \n",
    "    return logperm, perm, poro, timesteps, bhp, pressure, saturation, well_locs, well_locs_mask"
   ]
  },
  {
   "attachments": {},
   "cell_type": "markdown",
   "metadata": {},
   "source": [
    "***"
   ]
  },
  {
   "cell_type": "code",
   "execution_count": 58,
   "metadata": {},
   "outputs": [
    {
     "name": "stdout",
     "output_type": "stream",
     "text": [
      "Log-Perm: (32, 32)\n",
      "Permeability: (32, 32, 3) | Porosity: (32, 32)\n",
      "Pressure: (100, 32, 32, 60) | Saturation: (100, 32, 32, 60)\n",
      "Timesteps: (60, 1) | BHP: (100, 60)\n",
      "Well Locations: (100, 2) | Well Locations MASK: (100, 32, 32)\n"
     ]
    }
   ],
   "source": [
    "logperm, perm, poro, timesteps, bhp, pressure, saturation, well_locs, well_locs_mask = load_data()"
   ]
  },
  {
   "cell_type": "code",
   "execution_count": null,
   "metadata": {},
   "outputs": [],
   "source": []
  },
  {
   "attachments": {},
   "cell_type": "markdown",
   "metadata": {},
   "source": [
    "***\n",
    "# END"
   ]
  }
 ],
 "metadata": {
  "kernelspec": {
   "display_name": "Python 3",
   "language": "python",
   "name": "python3"
  },
  "language_info": {
   "codemirror_mode": {
    "name": "ipython",
    "version": 3
   },
   "file_extension": ".py",
   "mimetype": "text/x-python",
   "name": "python",
   "nbconvert_exporter": "python",
   "pygments_lexer": "ipython3",
   "version": "3.10.9"
  },
  "orig_nbformat": 4
 },
 "nbformat": 4,
 "nbformat_minor": 2
}

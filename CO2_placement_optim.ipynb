{
 "cells": [
  {
   "cell_type": "code",
   "execution_count": 1,
   "metadata": {},
   "outputs": [],
   "source": [
    "from utils import *"
   ]
  },
  {
   "cell_type": "code",
   "execution_count": null,
   "metadata": {},
   "outputs": [],
   "source": [
    "logperm, perm, poro, timesteps, bhp, pressure, saturation, well_locs, well_locs_mask = load_data()"
   ]
  },
  {
   "cell_type": "code",
   "execution_count": null,
   "metadata": {},
   "outputs": [],
   "source": [
    "plot_well_locs(well_locs, logperm)\n",
    "plot_bhps(bhp, timesteps, range(20,25))"
   ]
  },
  {
   "cell_type": "code",
   "execution_count": null,
   "metadata": {},
   "outputs": [],
   "source": [
    "plot_static(poro, perm, well_locs, 10, figsize=(20,4))"
   ]
  },
  {
   "cell_type": "code",
   "execution_count": null,
   "metadata": {},
   "outputs": [],
   "source": [
    "plot_dynamic(pressure, logperm, well_locs, nrows=3, multiplier=10, cmap='inferno', dtitle='Pressure')\n",
    "plot_dynamic(saturation, logperm, well_locs, nrows=3, multiplier=10, cmap='jet', dtitle='CO2 Saturation')"
   ]
  },
  {
   "attachments": {},
   "cell_type": "markdown",
   "metadata": {},
   "source": [
    "***\n",
    "# END"
   ]
  },
  {
   "cell_type": "code",
   "execution_count": null,
   "metadata": {},
   "outputs": [],
   "source": [
    "inj_locs = loadmat('simulations/inj_locations.mat')['inj_locations']\n",
    "mon_locs = loadmat('simulations/mon_locations.mat')['mon_locations']\n"
   ]
  },
  {
   "cell_type": "code",
   "execution_count": null,
   "metadata": {},
   "outputs": [],
   "source": [
    "plt.figure(figsize=(20,5))\n",
    "for i in range(10):\n",
    "    plt.subplot(2,5,i+1)\n",
    "    plt.imshow(loadmat('simulations/modrock.mat')['modrock'][i][0]['poro'][0][0].reshape(5,32,32)[0], cmap='jet')\n",
    "    plt.scatter(inj_locs[i][0][0][0], inj_locs[i][0][0][1], c='k', marker='d', s=30)"
   ]
  },
  {
   "cell_type": "code",
   "execution_count": null,
   "metadata": {},
   "outputs": [],
   "source": [
    "import pyvista as pv"
   ]
  },
  {
   "cell_type": "code",
   "execution_count": null,
   "metadata": {},
   "outputs": [],
   "source": [
    "k = 0\n",
    "fig, axs = plt.subplots(2, 5, figsize=(20,6))\n",
    "for i in range(2):\n",
    "    for j in range(5):\n",
    "        axs[i,j].imshow(np.rot90(loadmat('simulations/modrock.mat')['modrock'][k][0]['poro'][0][0].reshape(5,32,32)[0], 3), cmap='jet')\n",
    "        axs[i,j].scatter(inj_locs[k][0][0][0], inj_locs[k][0][0][1], color='k', s=50, marker='d')\n",
    "        axs[i,j].set(xticks=[], yticks=[], title='Realization {}'.format(k+1))\n",
    "        k += 1\n",
    "plt.show()"
   ]
  },
  {
   "cell_type": "code",
   "execution_count": null,
   "metadata": {},
   "outputs": [],
   "source": [
    "temp = np.log10(1.01325E15*np.flip(loadmat('simulations/modrock.mat')['modrock'][-1][0]['perm'][0][0][:,0].reshape(5,32,32).T))\n",
    "p = pv.Plotter()\n",
    "p.add_mesh(temp, cmap='jet', show_edges=True, scalar_bar_args={'title':'Log-Permeability [mD]'})\n",
    "p.show(jupyter_backend='static', window_size=(800,500))"
   ]
  },
  {
   "cell_type": "code",
   "execution_count": null,
   "metadata": {},
   "outputs": [],
   "source": [
    "temp = loadmat('simulations/results.mat')['results'].reshape(10,75)\n",
    "print(temp.shape)"
   ]
  },
  {
   "cell_type": "code",
   "execution_count": null,
   "metadata": {},
   "outputs": [],
   "source": [
    "fig, axs = plt.subplots(2, 5, figsize=(20, 6))\n",
    "k = 0\n",
    "for i in range(2):\n",
    "    for j in range(5):\n",
    "        monitorwell = pd.DataFrame(mon_locs[k][0], columns=['X','Y'])\n",
    "        im = axs[i,j].imshow(temp[k, -1]['s'][0][0][:,-1].reshape(5,32,32)[0].T, cmap='jet', vmin=0, vmax=1)\n",
    "        axs[i,j].scatter(inj_locs[k][0][0][0], inj_locs[k][0][0][1], marker='d', color='k', s=30, label='inj')\n",
    "        axs[i,j].scatter(monitorwell['Y'], monitorwell['X'], c='w', marker='*')\n",
    "        axs[i,j].set(xticks=[], yticks=[], title='Realization {}'.format(k+1), xlabel='X [m]', ylabel='Y [m]')\n",
    "        axs[i,j].legend()\n",
    "        plt.colorbar(im, label='CO2 Saturation')\n",
    "        k += 1\n",
    "plt.suptitle('Top View')\n",
    "plt.show()\n",
    "\n",
    "fig, axs = plt.subplots(2, 5, figsize=(20, 6))\n",
    "k = 0\n",
    "for i in range(2):\n",
    "    for j in range(5):\n",
    "        monitorwell = pd.DataFrame(mon_locs[k][0], columns=['X','Y'])\n",
    "        im = axs[i,j].imshow(temp[k, -1]['s'][0][0][:,-1].reshape(5,32,32)[-1].T, cmap='jet', vmin=0, vmax=1)\n",
    "        axs[i,j].scatter(inj_locs[k][0][0][0], inj_locs[k][0][0][1], marker='d', color='k', s=30, label='inj')\n",
    "        axs[i,j].scatter(monitorwell['Y'], monitorwell['X'], c='w', marker='*')\n",
    "        axs[i,j].set(xticks=[], yticks=[], title='Realization {}'.format(k+1), xlabel='X [m]', ylabel='Y [m]')\n",
    "        axs[i,j].legend()\n",
    "        plt.colorbar(im, label='CO2 Saturation')\n",
    "        k += 1\n",
    "plt.suptitle('Bottom View')\n",
    "plt.show()"
   ]
  },
  {
   "cell_type": "code",
   "execution_count": null,
   "metadata": {},
   "outputs": [],
   "source": [
    "p = pv.Plotter(shape=(2,5))\n",
    "k = 0\n",
    "for i in range(2):\n",
    "    for j in range(5):\n",
    "        p.subplot(i,j)\n",
    "        cb_args = {'title':'Realization {}'.format(k+1), 'n_labels':3, 'fmt':'%.1f','title_font_size':10, 'label_font_size':8}\n",
    "        p.add_mesh(np.flip(temp[k, -1]['s'][0][0][:,-1].reshape(5,32,32).T), cmap='jet', show_edges=True, scalar_bar_args=cb_args)\n",
    "        if i==0 and j==2:\n",
    "            p.add_text('top view', position='upper_edge', font_size=12)\n",
    "        k += 1\n",
    "p.show(jupyter_backend='static', window_size=(1000,400))"
   ]
  },
  {
   "cell_type": "code",
   "execution_count": null,
   "metadata": {},
   "outputs": [],
   "source": [
    "p = pv.Plotter(shape=(2,5))\n",
    "k = 0\n",
    "for i in range(2):\n",
    "    for j in range(5):\n",
    "        p.subplot(i,j)\n",
    "        cb_args = {'title':'Realization {}'.format(k+1), 'n_labels':3, 'fmt':'%.1f','title_font_size':10, 'label_font_size':8}\n",
    "        p.add_mesh((temp[k, -1]['s'][0][0][:,-1].reshape(5,32,32).T), cmap='jet', show_edges=True, scalar_bar_args=cb_args)\n",
    "        if i==0 and j==2:\n",
    "            p.add_text('bottom view', position='upper_edge', font_size=12)\n",
    "        k += 1\n",
    "p.show(jupyter_backend='static', window_size=(1000,400))"
   ]
  },
  {
   "cell_type": "code",
   "execution_count": null,
   "metadata": {},
   "outputs": [],
   "source": [
    "loadmat('simulations/results.mat')['results'][0][0][0][0][0][0]['s'][:,-1]"
   ]
  },
  {
   "cell_type": "code",
   "execution_count": null,
   "metadata": {},
   "outputs": [],
   "source": [
    "p = pv.Plotter()\n",
    "p.add_mesh(np.flip(loadmat('simulations/results.mat')['results'][-1][-1][-1][-1][-1][-1]['s'][:,-1].reshape(5,32,32).T), cmap='jet')\n",
    "p.show(jupyter_backend='static', window_size=(800,300))"
   ]
  },
  {
   "cell_type": "code",
   "execution_count": null,
   "metadata": {},
   "outputs": [],
   "source": []
  }
 ],
 "metadata": {
  "kernelspec": {
   "display_name": "Python 3",
   "language": "python",
   "name": "python3"
  },
  "language_info": {
   "codemirror_mode": {
    "name": "ipython",
    "version": 3
   },
   "file_extension": ".py",
   "mimetype": "text/x-python",
   "name": "python",
   "nbconvert_exporter": "python",
   "pygments_lexer": "ipython3",
   "version": "3.10.9"
  },
  "orig_nbformat": 4
 },
 "nbformat": 4,
 "nbformat_minor": 2
}

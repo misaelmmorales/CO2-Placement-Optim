{
 "cells": [
  {
   "cell_type": "code",
   "execution_count": 1,
   "metadata": {},
   "outputs": [],
   "source": [
    "import os\n",
    "import numpy as np\n",
    "import pandas as pd\n",
    "from tqdm import tqdm\n",
    "import scipy.io as sio\n",
    "import scipy.sparse as scisparse\n",
    "import matplotlib.pyplot as plt\n",
    "from skimage.transform import resize\n",
    "from sklearn.preprocessing import MinMaxScaler\n",
    "from multiprocessing import Pool\n",
    "\n",
    "from utils import NeuralOperator, DualFNO\n",
    "\n",
    "import torch\n",
    "import torch.nn as nn\n",
    "import torch.optim as optim\n",
    "import torch.nn.functional as F\n",
    "\n",
    "NT, NT0    = 60, 30\n",
    "NX, NY, NZ = 160, 160, 5\n",
    "DX, DY, DZ = 250, 250, 40\n",
    "PARENT_DIR = '/mnt/e/Placement-Control-Optim-CO2'\n",
    "LOCAL_DIR  = 'SlopingAquifer'\n",
    "sec2year   = 365.25 * 24 * 60 * 60\n",
    "psi2pascal = 6894.76\n",
    "co2_rho    = 686.5266\n",
    "mega       = 1e6\n",
    "mt2m3      = sec2year*co2_rho/mega/1e3"
   ]
  },
  {
   "cell_type": "markdown",
   "metadata": {},
   "source": [
    "***"
   ]
  },
  {
   "cell_type": "code",
   "execution_count": null,
   "metadata": {},
   "outputs": [],
   "source": [
    "structuralTraps = sio.loadmat('structuralTraps.mat', simplify_cells=True)['ts']\n",
    "grid = sio.loadmat('G.mat', simplify_cells=True)['G']\n",
    "gridVE = sio.loadmat('Gt.mat', simplify_cells=True)['Gt']\n",
    "tops2d = -gridVE['cells']['z'].reshape(NX,NY)\n",
    "\n",
    "fig, axs = plt.subplots(1, 2, figsize=(10,5))\n",
    "im1 = axs[0].imshow(structuralTraps['z_spill_loc'].reshape(NX,NY), cmap='nipy_spectral')\n",
    "im2 = axs[1].imshow(tops2d, cmap='gist_earth', interpolation='none')\n",
    "[plt.colorbar(i, pad=0.04, fraction=0.046) for i in [im1, im2]]\n",
    "[a.set(title=['Spill Points', 'Tops (Elevation)'][i]) for i,a in enumerate(axs)]\n",
    "plt.tight_layout()\n",
    "plt.show()"
   ]
  },
  {
   "cell_type": "code",
   "execution_count": null,
   "metadata": {},
   "outputs": [],
   "source": [
    "n_samples = 16\n",
    "features = np.zeros((n_samples, 5, NX, NY, NT0))\n",
    "targets1 = np.zeros((n_samples, 2, NX, NY, NT0))\n",
    "targets2 = np.zeros((n_samples, 1, NX, NY, NT0))\n",
    "\n",
    "for i in tqdm(range(n_samples), desc='Processing Data', unit='realization'):\n",
    "    tops = np.repeat(np.expand_dims(tops2d, -1), NT0, axis=-1)\n",
    "\n",
    "    rock = sio.loadmat('rock/VE2d/mat/rock2d_{}.mat'.format(i), simplify_cells=True)['var']\n",
    "    perm = np.repeat(np.expand_dims(rock['perm'].reshape(NX,NY), -1), NT0, axis=-1)\n",
    "    poro = np.repeat(np.expand_dims(rock['poro'].reshape(NX,NY), -1), NT0, axis=-1)\n",
    "\n",
    "    ww = sio.loadmat('well_locs/well_locs_{}.mat'.format(i), simplify_cells=True)['var'] - 1\n",
    "    cc = sio.loadmat('controls/controls_{}.mat'.format(i), simplify_cells=True)['var'] * sec2year * co2_rho / 1e3 / mega\n",
    "\n",
    "    if len(cc.shape) == 1:\n",
    "        cc = cc.reshape(1, -1)\n",
    "    if len(ww.shape) == 1:\n",
    "        ww = ww.reshape(1, -1)\n",
    "\n",
    "    well_locs = np.zeros((NX,NY))\n",
    "    well_locs[ww[:,1], ww[:,0]] = 1\n",
    "    well_locs = np.repeat(np.expand_dims(well_locs, -1), NT0, axis=-1)\n",
    "\n",
    "    controls = np.zeros((NX,NY,NT0))\n",
    "    controls[ww[:,1], ww[:,0], :] = cc\n",
    "\n",
    "    pressure = np.zeros((NX,NY,NT))\n",
    "    saturation = np.zeros((NX,NY,NT))\n",
    "    dd = sio.loadmat('states/states_{}.mat'.format(i), simplify_cells=True)['var']\n",
    "    for j in range(NT):\n",
    "        pressure[..., j] = dd[j]['pressure'].reshape(NX,NY)\n",
    "        saturation[..., j] = dd[j]['s'].reshape(NX,NY)\n",
    "    \n",
    "    features[i] = np.stack([poro, perm, tops, well_locs, controls], axis=0)\n",
    "    targets = np.stack([pressure, saturation], axis=0)\n",
    "    targets1[i] = targets[..., :NT0]\n",
    "    targets2[i] = targets[-1,..., NT0:]\n",
    "\n",
    "features = np.moveaxis(features, 1, -1)\n",
    "targets1 = np.moveaxis(targets1, 1, -1)\n",
    "targets2 = np.moveaxis(targets2, 1, -1)\n",
    "print('features: {} | targets1: {} | targets2: {}'.format(features.shape, targets1.shape, targets2.shape))"
   ]
  },
  {
   "cell_type": "code",
   "execution_count": null,
   "metadata": {},
   "outputs": [],
   "source": []
  },
  {
   "cell_type": "code",
   "execution_count": null,
   "metadata": {},
   "outputs": [],
   "source": []
  },
  {
   "cell_type": "code",
   "execution_count": null,
   "metadata": {},
   "outputs": [],
   "source": [
    "timesteps = []\n",
    "for i in range(NT):\n",
    "    timesteps.append(dd[i]['t'])\n",
    "timesteps = np.array(timesteps)\n",
    "t0steps   = timesteps[:-NT0]\n",
    "t1steps   = timesteps[-NT0:]\n",
    "\n",
    "t_trainidx = list(range(20))+[20, 21, 23, 25]\n",
    "t_testidx  = np.setdiff1d(range(NT0), t_trainidx)\n",
    "test0steps  = np.setdiff1d(t0steps, t0steps[t_trainidx])\n",
    "test1steps  = np.setdiff1d(t1steps, t1steps[t_trainidx])\n",
    "\n",
    "features_train = features[..., t_trainidx, :]\n",
    "targets1_train = targets1[..., t_trainidx, :]\n",
    "targets2_train = targets2[..., t_trainidx, :]\n",
    "print('Train - features: {} | targets1: {} | targets2: {}'.format(features_train.shape, targets1_train.shape, targets2_train.shape))"
   ]
  },
  {
   "cell_type": "code",
   "execution_count": null,
   "metadata": {},
   "outputs": [],
   "source": []
  },
  {
   "cell_type": "code",
   "execution_count": null,
   "metadata": {},
   "outputs": [],
   "source": []
  },
  {
   "cell_type": "code",
   "execution_count": null,
   "metadata": {},
   "outputs": [],
   "source": [
    "totVol = []\n",
    "vol = []\n",
    "freeVol = []\n",
    "trappedVol = []\n",
    "leakedVol = []\n",
    "timesteps = []\n",
    "\n",
    "for i in tqdm(range(1, 60)):\n",
    "    d = dd[i]\n",
    "    totVol.append(d['totVol']/mt2m3)\n",
    "    vol.append(d['vol']/mt2m3)\n",
    "    freeVol.append(d['freeVol']/mt2m3)\n",
    "    trappedVol.append(d['trappedVol']/mt2m3)\n",
    "    leakedVol.append(d['leakedVol']/mt2m3)\n",
    "    timesteps.append(d['t'])\n",
    "\n",
    "totVol = np.array(totVol)\n",
    "vol = np.array(vol)\n",
    "freeVol = np.array(freeVol)\n",
    "trappedVol = np.array(trappedVol)\n",
    "leakedVol = np.array(leakedVol)\n",
    "timesteps = np.array(timesteps)"
   ]
  },
  {
   "cell_type": "code",
   "execution_count": null,
   "metadata": {},
   "outputs": [],
   "source": [
    "fig = plt.figure(figsize=(10,7))\n",
    "ax  = fig.add_subplot(111)\n",
    "im = ax.imshow(cc, cmap='turbo', interpolation='none')\n",
    "ax.set(yticks=range(cc.shape[0]), yticklabels=['c{}'.format(i) for i in range(1, cc.shape[0]+1)],\n",
    "       xticks=range(cc.shape[1]), xticklabels=range(1, cc.shape[1]+1),\n",
    "       xlabel='Time step', ylabel='Control')\n",
    "plt.colorbar(im, ax=ax, orientation='horizontal', pad=0.084, fraction=0.046)\n",
    "plt.tight_layout()\n",
    "plt.show()"
   ]
  },
  {
   "cell_type": "code",
   "execution_count": null,
   "metadata": {},
   "outputs": [],
   "source": [
    "plt.figure(figsize=(20,5))\n",
    "for i in range(30):\n",
    "    plt.subplot(2, 15, i+1)\n",
    "    s = dd[i*2]['s'].reshape(NX,NY) \n",
    "    p = dd[i*2]['pressure'].reshape(NX,NY) / psi2pascal\n",
    "    plt.imshow(s, cmap='jet')\n",
    "    plt.scatter(ww[:,0], ww[:,1], c='w', edgecolor='k', s=10, marker='v')\n",
    "    plt.axis('off')\n",
    "    plt.title('t={}'.format(dd[i*2+1]['t']))\n",
    "plt.tight_layout()\n",
    "plt.show()"
   ]
  },
  {
   "cell_type": "code",
   "execution_count": null,
   "metadata": {},
   "outputs": [],
   "source": [
    "sat = np.zeros((60, NX, NY))\n",
    "\n",
    "for i in range(60):\n",
    "    sat[i] = dd[i]['s'].reshape(NX,NY)"
   ]
  },
  {
   "cell_type": "code",
   "execution_count": null,
   "metadata": {},
   "outputs": [],
   "source": [
    "nw = []\n",
    "for i in tqdm(range(1272)):\n",
    "    a = sio.loadmat('well_locs/well_locs_{}.mat'.format(i), simplify_cells=True)['var']\n",
    "    if len(a.shape) == 1:\n",
    "        a = a.reshape(1, -1)\n",
    "    nw.append(a.shape[0])"
   ]
  },
  {
   "cell_type": "code",
   "execution_count": null,
   "metadata": {},
   "outputs": [],
   "source": [
    "pv = np.ones((160,160))*(DX*DY*DZ)"
   ]
  },
  {
   "cell_type": "code",
   "execution_count": null,
   "metadata": {},
   "outputs": [],
   "source": [
    "pv @ "
   ]
  },
  {
   "cell_type": "code",
   "execution_count": null,
   "metadata": {},
   "outputs": [],
   "source": [
    "np.sum(sat[0] @ ) / co2_rho / sec2year * 1e3 * mega"
   ]
  },
  {
   "cell_type": "code",
   "execution_count": null,
   "metadata": {},
   "outputs": [],
   "source": [
    "totVol[0]"
   ]
  },
  {
   "cell_type": "code",
   "execution_count": null,
   "metadata": {},
   "outputs": [],
   "source": [
    "np.max(sat[0])"
   ]
  },
  {
   "cell_type": "code",
   "execution_count": null,
   "metadata": {},
   "outputs": [],
   "source": []
  },
  {
   "cell_type": "code",
   "execution_count": null,
   "metadata": {},
   "outputs": [],
   "source": [
    "np.sum( sat[0]) / (DX*NX*DY*NY*DZ*NZ) "
   ]
  },
  {
   "cell_type": "code",
   "execution_count": null,
   "metadata": {},
   "outputs": [],
   "source": [
    "(totVol[1] - totVol[0]) / (DX*DY*DZ)"
   ]
  },
  {
   "cell_type": "code",
   "execution_count": null,
   "metadata": {},
   "outputs": [],
   "source": [
    "np.sum(totVol) * co2_rho * sec2year / 1e3 / mega"
   ]
  },
  {
   "cell_type": "code",
   "execution_count": null,
   "metadata": {},
   "outputs": [],
   "source": [
    "print('Trapped:', np.sum(trappedVol))\n",
    "print('Leaked:', np.sum(leakedVol))\n",
    "print('Total:', np.sum(totVol))"
   ]
  },
  {
   "cell_type": "code",
   "execution_count": null,
   "metadata": {},
   "outputs": [],
   "source": []
  },
  {
   "cell_type": "code",
   "execution_count": null,
   "metadata": {},
   "outputs": [],
   "source": [
    "trapped_labels = ['residual (traps)', 'residual', 'free (residual)', 'moveable', 'free plume', 'leaked']\n",
    "\n",
    "plt.figure(figsize=(18,4))\n",
    "\n",
    "plt.plot(timesteps, totVol, label='Total Volume', c='tab:green')\n",
    "plt.plot(timesteps, np.sum(vol, 1), label='Sum of Vols', c='tab:blue')\n",
    "\n",
    "plt.plot(timesteps, np.sum(vol,1)+leakedVol, label='Sum of Vols + Leaked', ls='', marker='.', c='g')\n",
    "plt.plot(timesteps, np.sum([freeVol, trappedVol], 0), label='Free + Trapped', ls='', marker='.', c='b')\n",
    "\n",
    "plt.plot(timesteps, leakedVol, label='Leaked Volume', c='r', marker='x')\n",
    "plt.plot(timesteps, trappedVol, label='Trapped Volume', c='tab:orange', marker='s')\n",
    "plt.plot(timesteps, freeVol, label='Free Volume', c='magenta', marker='.')\n",
    "\n",
    "plt.plot(timesteps, freeVol+trappedVol+leakedVol, c='k', label='Free + Trapped + Leaked')\n",
    "\n",
    "# vols = np.hstack([vol, leakedVol.reshape(-1,1)])\n",
    "# for k in range(6):\n",
    "#     plt.plot(timesteps, vols[:,k], label=trapped_labels[k], ls='-.', c='C{}'.format(k+4))\n",
    "\n",
    "plt.legend(facecolor='lightgrey', edgecolor='k', loc='upper left')\n",
    "plt.xscale('log')\n",
    "plt.grid(True, which='both')\n",
    "\n",
    "plt.show()"
   ]
  },
  {
   "cell_type": "code",
   "execution_count": null,
   "metadata": {},
   "outputs": [],
   "source": [
    "from utils import LpLoss, NeuralOperator"
   ]
  },
  {
   "cell_type": "code",
   "execution_count": null,
   "metadata": {},
   "outputs": [],
   "source": []
  }
 ],
 "metadata": {
  "kernelspec": {
   "display_name": "rapids",
   "language": "python",
   "name": "python3"
  },
  "language_info": {
   "codemirror_mode": {
    "name": "ipython",
    "version": 3
   },
   "file_extension": ".py",
   "mimetype": "text/x-python",
   "name": "python",
   "nbconvert_exporter": "python",
   "pygments_lexer": "ipython3",
   "version": "3.9.19"
  }
 },
 "nbformat": 4,
 "nbformat_minor": 2
}

{
 "cells": [
  {
   "cell_type": "code",
   "execution_count": 1,
   "id": "8a56c4c3",
   "metadata": {},
   "outputs": [],
   "source": [
    "import os\n",
    "os.chdir('/work/08649/mmm6558/ls6/Placement-Control-Optim-CO2')"
   ]
  },
  {
   "cell_type": "code",
   "execution_count": 2,
   "id": "3aa95955",
   "metadata": {},
   "outputs": [],
   "source": [
    "!module purge"
   ]
  },
  {
   "cell_type": "code",
   "execution_count": 3,
   "id": "59f98dc4",
   "metadata": {},
   "outputs": [
    {
     "name": "stdout",
     "output_type": "stream",
     "text": [
      "/bin/bash\r\n"
     ]
    }
   ],
   "source": [
    "!echo $BASH"
   ]
  },
  {
   "cell_type": "code",
   "execution_count": 4,
   "id": "f79f82c3",
   "metadata": {},
   "outputs": [],
   "source": [
    "import numpy as np\n",
    "import pandas as pd\n",
    "import matplotlib.pyplot as plt\n",
    "\n",
    "from scipy.io import loadmat\n",
    "\n",
    "import torch\n",
    "import torch.nn as nn\n",
    "from torch.utils.data import Dataset, DataLoader, TensorDataset, random_split"
   ]
  },
  {
   "cell_type": "code",
   "execution_count": 5,
   "id": "d165e632",
   "metadata": {},
   "outputs": [],
   "source": [
    "sec2year   = 365.25 * 24 * 60 * 60\n",
    "psi2pascal = 6894.76\n",
    "co2_rho    = 686.5266\n",
    "mega       = 1e6\n",
    "\n",
    "n_timesteps = 33\n",
    "nx, ny, nz  = 100, 100, 11\n",
    "\n",
    "indexMap = loadmat('data_100_100_11/G_cells_indexMap.mat', simplify_cells=True)['gci']\n",
    "Grid = np.zeros((nx,ny,nz)).flatten(order='F')\n",
    "Grid[indexMap] = 1\n",
    "Grid = Grid.reshape(nx,ny,nz, order='F')\n",
    "Tops = np.load('data_npy_100_100_11/tops_grid.npz')['tops']"
   ]
  },
  {
   "cell_type": "code",
   "execution_count": 6,
   "id": "ab6bcfb6",
   "metadata": {},
   "outputs": [
    {
     "name": "stdout",
     "output_type": "stream",
     "text": [
      "------------------------------------------------------------\n",
      "----------------------- VERSION INFO -----------------------\n",
      "Torch version: 2.1.1+cu121 | Torch Built with CUDA? True\n",
      "# Device(s) available: 3, Name(s): NVIDIA A100-PCIE-40GB\n",
      "------------------------------------------------------------\n"
     ]
    }
   ],
   "source": [
    "def check_torch(verbose:bool=True):\n",
    "    if torch.cuda.is_available():\n",
    "        torch_version, cuda_avail = torch.__version__, torch.cuda.is_available()\n",
    "        count, name = torch.cuda.device_count(), torch.cuda.get_device_name()\n",
    "        if verbose:\n",
    "            print('-'*60)\n",
    "            print('----------------------- VERSION INFO -----------------------')\n",
    "            print('Torch version: {} | Torch Built with CUDA? {}'.format(torch_version, cuda_avail))\n",
    "            print('# Device(s) available: {}, Name(s): {}'.format(count, name))\n",
    "            print('-'*60)\n",
    "        device = torch.device(\"cuda\" if torch.cuda.is_available() else \"cpu\")\n",
    "        return device\n",
    "    else:\n",
    "        torch_version, cuda_avail = torch.__version__, torch.cuda.is_available()\n",
    "        if verbose:\n",
    "            print('-'*60)\n",
    "            print('----------------------- VERSION INFO -----------------------')\n",
    "            print('Torch version: {} | Torch Built with CUDA? {}'.format(torch_version, cuda_avail))\n",
    "            print('-'*60)\n",
    "        device = torch.device('cpu')\n",
    "        return device\n",
    "device = check_torch()"
   ]
  },
  {
   "cell_type": "code",
   "execution_count": 7,
   "id": "f1ee8c81",
   "metadata": {},
   "outputs": [],
   "source": [
    "class MiONet(nn.Module):\n",
    "    def __init__(self, hidden_channels=16, output_channels=32):\n",
    "        super(MiONet, self).__init__()\n",
    "        self.hidden = hidden_channels\n",
    "        self.output = output_channels\n",
    "\n",
    "        self.conv1 = nn.Conv3d(2, self.hidden, kernel_size=3, padding=1)\n",
    "        self.conv2 = nn.Conv3d(self.hidden, self.output, kernel_size=3, padding=1)\n",
    "        self.norm1 = nn.BatchNorm3d(self.hidden)\n",
    "        self.norm2 = nn.BatchNorm3d(self.output)\n",
    "        self.pool  = nn.MaxPool3d(2)\n",
    "        self.gelu  = nn.GELU()\n",
    "\n",
    "        self.linW1 = nn.Linear(5, self.hidden)\n",
    "        self.linW2 = nn.Linear(self.hidden, self.output)\n",
    "        self.bnW1  = nn.BatchNorm1d(self.hidden//8)\n",
    "        self.bnW2  = nn.BatchNorm1d(self.output//16)\n",
    "\n",
    "        self.lstmC1 = nn.LSTM(5, self.hidden, num_layers=1, batch_first=True)\n",
    "        self.lstmC2 = nn.LSTM(self.hidden, self.output, num_layers=1, batch_first=True)\n",
    "\n",
    "        self.lmstT1 = nn.LSTM(1, self.hidden, num_layers=1, batch_first=True)\n",
    "        self.lmstT2 = nn.LSTM(self.hidden, self.output, num_layers=1, batch_first=True)\n",
    "\n",
    "        self.linY1 = nn.Linear(1250, 10000)\n",
    "        self.linY2 = nn.Linear(10000, 29128)\n",
    "\n",
    "    def forward(self, x):\n",
    "        xm, xg, xw, xc, xt = x\n",
    "\n",
    "        zm = self.gelu(self.pool(self.norm1(self.conv1(xm))))\n",
    "        zm = self.gelu(self.pool(self.norm2(self.conv2(zm))))\n",
    "        zm = zm.view(zm.shape[0], self.output, -1)\n",
    "\n",
    "        zg = self.gelu(self.pool(self.norm1(self.conv1(xg))))\n",
    "        zg = self.gelu(self.pool(self.norm2(self.conv2(zg))))\n",
    "        zg = zg.view(zg.shape[0], self.output, -1)\n",
    "\n",
    "        zw = self.gelu(self.bnW1(self.linW1(xw)))\n",
    "        zw = self.gelu(self.bnW2(self.linW2(zw)))\n",
    "\n",
    "        zc, _ = self.lstmC1(xc)\n",
    "        zc, _ = self.lstmC2(zc)\n",
    "\n",
    "        zt, _ = self.lmstT1(xt)\n",
    "        zt, _ = self.lmstT2(zt)\n",
    "\n",
    "        mg = torch.einsum('bcp,bcp->bcp', zm, zg)\n",
    "        wc = torch.einsum('blc,btc->btlc', zw, zc)\n",
    "        branch = torch.einsum('bcp,btlc->btpl', mg, wc)\n",
    "        merge  = torch.einsum('btpl,btc->btlp', branch, zt)\n",
    "\n",
    "        yy = self.gelu(self.linY1(merge))\n",
    "        yy = self.linY2(yy)\n",
    "\n",
    "        return yy"
   ]
  },
  {
   "cell_type": "code",
   "execution_count": 8,
   "id": "2029719b",
   "metadata": {},
   "outputs": [],
   "source": [
    "class CustomDataset(Dataset):\n",
    "    def __init__(self, data_folder:str='data_npy_100_100_11'):\n",
    "        self.data_folder = data_folder\n",
    "        \n",
    "        self.x_folder = os.path.join(data_folder, 'inputs_rock_rates_locs_time')\n",
    "        self.y_folder = os.path.join(data_folder, 'outputs_masked_pressure_saturation')\n",
    "\n",
    "        self.x_file_list = os.listdir(self.x_folder)\n",
    "        self.y_file_list = os.listdir(self.y_folder)\n",
    "\n",
    "    def __len__(self):\n",
    "        return len(self.x_file_list)\n",
    "    \n",
    "    def __getitem__(self, idx):\n",
    "        x  = np.load(os.path.join(self.x_folder, self.x_file_list[idx]))\n",
    "        y  = np.load(os.path.join(self.y_folder, self.y_file_list[idx]))\n",
    "\n",
    "        xg = np.concatenate([np.expand_dims(Tops, 0), \n",
    "                             np.expand_dims(Grid, 0)], \n",
    "                             axis=0)\n",
    "\n",
    "        xm = np.concatenate([np.expand_dims(x['poro'],0), \n",
    "                             np.expand_dims(x['perm'],0)], \n",
    "                             axis=0)\n",
    "        \n",
    "        xw = x['locs']\n",
    "        xc = np.concatenate([np.zeros((1,xw.shape[-1])), x['ctrl']], axis=0)\n",
    "        xt = np.expand_dims(np.insert(x['time'], 0, 0), -1)\n",
    "        yp = y['pressure']\n",
    "        ys = y['saturation']\n",
    "        yy = np.concatenate([np.expand_dims(yp,1), np.expand_dims(ys,1)], axis=1)\n",
    "\n",
    "        xm = torch.tensor(xm, dtype=torch.float32, device=device)\n",
    "        xg = torch.tensor(xg, dtype=torch.float32, device=device)\n",
    "        xw = torch.tensor(xw, dtype=torch.float32, device=device)\n",
    "        xc = torch.tensor(xc, dtype=torch.float32, device=device)\n",
    "        xt = torch.tensor(xt, dtype=torch.float32, device=device)\n",
    "        yy = torch.tensor(yy, dtype=torch.float32, device=device)\n",
    "\n",
    "        return (xm, xg, xw, xc, xt), yy"
   ]
  },
  {
   "cell_type": "code",
   "execution_count": 9,
   "id": "dc07fe7f",
   "metadata": {},
   "outputs": [],
   "source": [
    "history = pd.read_csv('MiONet_losses.csv')\n",
    "\n",
    "plt.figure(figsize=(12,4))\n",
    "plt.plot(history.index, history['train'], ls='-', label='Train')\n",
    "plt.plot(history.index, history['valid'], ls='-', label='Valid')\n",
    "plt.legend()\n",
    "plt.grid(True, which='both')\n",
    "plt.tight_layout()\n",
    "plt.savefig('MiONet_losses.png')\n",
    "plt.show()"
   ]
  },
  {
   "cell_type": "code",
   "execution_count": 10,
   "id": "ba777b2b",
   "metadata": {},
   "outputs": [],
   "source": [
    "dataset = CustomDataset()\n",
    "trainset, testset  = random_split(dataset,  [1172, 100])\n",
    "trainset, validset = random_split(trainset, [972,  200])\n",
    "\n",
    "trainloader = DataLoader(trainset, batch_size=16, shuffle=True)\n",
    "validloader = DataLoader(validset, batch_size=16, shuffle=False)\n",
    "testloader  = DataLoader(testset, batch_size=16, shuffle=False)"
   ]
  },
  {
   "cell_type": "code",
   "execution_count": 14,
   "id": "13cdc7be",
   "metadata": {},
   "outputs": [],
   "source": [
    "!module purge"
   ]
  },
  {
   "cell_type": "code",
   "execution_count": 15,
   "id": "1ed0ec9b",
   "metadata": {},
   "outputs": [
    {
     "name": "stdout",
     "output_type": "stream",
     "text": [
      "/bin/bash\r\n"
     ]
    }
   ],
   "source": [
    "!echo $BASH"
   ]
  },
  {
   "cell_type": "code",
   "execution_count": 16,
   "id": "e013ab53",
   "metadata": {},
   "outputs": [
    {
     "data": {
      "text/plain": [
       "<All keys matched successfully>"
      ]
     },
     "execution_count": 16,
     "metadata": {},
     "output_type": "execute_result"
    }
   ],
   "source": [
    "model = MiONet().to(device)\n",
    "model.load_state_dict(torch.load('MiONet.pth'))"
   ]
  },
  {
   "cell_type": "code",
   "execution_count": 17,
   "id": "f13f1e7f",
   "metadata": {},
   "outputs": [
    {
     "name": "stdout",
     "output_type": "stream",
     "text": [
      "xm (2, 100, 100, 11)\n",
      "xg (2, 100, 100, 11)\n",
      "xw (2, 5)\n",
      "xc (34, 5)\n",
      "xt (34, 1)\n",
      "yy (34, 2, 29128)\n"
     ]
    }
   ],
   "source": [
    "x, y = trainset[114]\n",
    "xm, xg, xw, xc, xt = x\n",
    "xm = xm.cpu().detach().numpy()\n",
    "xg = xg.cpu().detach().numpy()\n",
    "xw = xw.cpu().detach().numpy()\n",
    "xc = xc.cpu().detach().numpy()\n",
    "xt = xt.cpu().detach().numpy()/sec2year\n",
    "y = y.cpu().detach().numpy()\n",
    "print('xm', xm.shape)\n",
    "print('xg', xg.shape)\n",
    "print('xw', xw.shape)\n",
    "print('xc', xc.shape)\n",
    "print('xt', xt.shape)\n",
    "print('yy', y.shape)"
   ]
  },
  {
   "cell_type": "code",
   "execution_count": 18,
   "id": "78e6d5db",
   "metadata": {},
   "outputs": [],
   "source": [
    "fig, axs = plt.subplots(2, 11, figsize=(12,3.5), sharex=True, sharey=True)\n",
    "for j in  range(11):\n",
    "    ax1, ax2 = axs[0,j], axs[1,j]\n",
    "    im1 = ax1.imshow(xm[0,:,:,j], cmap='jet')\n",
    "    im2 = ax2.imshow(xm[1,:,:,j], cmap='jet')\n",
    "    plt.colorbar(im1, ax=ax1, pad=0.04, fraction=0.046)\n",
    "    plt.colorbar(im2, ax=ax2, pad=0.04, fraction=0.046)\n",
    "plt.tight_layout()\n",
    "plt.savefig('xm.png')\n",
    "plt.show()\n",
    "plt.close()"
   ]
  },
  {
   "cell_type": "code",
   "execution_count": 19,
   "id": "e2d72bd8",
   "metadata": {},
   "outputs": [],
   "source": [
    "fig, axs = plt.subplots(2, 11, figsize=(12,3.5), sharex=True, sharey=True)\n",
    "for j in  range(11):\n",
    "    ax1, ax2 = axs[0,j], axs[1,j]\n",
    "    im1 = ax1.imshow(xg[0,:,:,j], cmap='jet')\n",
    "    im2 = ax2.imshow(xg[1,:,:,j], cmap='jet')\n",
    "    plt.colorbar(im1, ax=ax1, pad=0.04, fraction=0.046)\n",
    "    plt.colorbar(im2, ax=ax2, pad=0.04, fraction=0.046)\n",
    "plt.tight_layout()\n",
    "plt.savefig('xg.png')\n",
    "plt.show()\n",
    "plt.close()"
   ]
  },
  {
   "cell_type": "code",
   "execution_count": 20,
   "id": "6a5ba452",
   "metadata": {},
   "outputs": [],
   "source": [
    "plt.figure(figsize=(8,5))\n",
    "plt.imshow(xm[0,:,:,5], cmap='jet')\n",
    "for i in range(5):\n",
    "    plt.scatter(xw[0,i], xw[1,i], marker='v', color='k', s=100)\n",
    "plt.tight_layout()\n",
    "plt.savefig('xw.png')\n",
    "plt.show()\n",
    "plt.close()"
   ]
  },
  {
   "cell_type": "code",
   "execution_count": 21,
   "id": "96fdddba",
   "metadata": {},
   "outputs": [],
   "source": [
    "plt.figure(figsize=(6,8))\n",
    "plt.imshow(xc, cmap='inferno', vmin=0, vmax=1)\n",
    "plt.colorbar(pad=0.04, fraction=0.046)\n",
    "plt.yticks(range(34), labels=range(34))\n",
    "plt.xticks(range(5), labels=['W%d'%i for i in range(1,6)])\n",
    "plt.tight_layout()\n",
    "plt.savefig('xc.png')\n",
    "plt.show()\n",
    "plt.close()"
   ]
  },
  {
   "cell_type": "code",
   "execution_count": 22,
   "id": "e3e579bc",
   "metadata": {},
   "outputs": [],
   "source": [
    "colors = ['tab:blue','tab:orange','tab:green','tab:red','tab:purple']\n",
    "plt.figure(figsize=(10,5))\n",
    "for i in range(5):\n",
    "    for t in range(33):\n",
    "        plt.hlines(xc[t,i], xt[t], xt[t+1], color=colors[i], ls='-')\n",
    "        plt.vlines(xt[t], xc[t-1,i], xc[t,i], color='k', ls='--', alpha=0.25)\n",
    "plt.xlim(0,10)\n",
    "plt.xticks(np.arange(0,10.5,step=0.5))\n",
    "plt.xlabel('Timestep')\n",
    "plt.ylabel('Injection Rate')\n",
    "plt.xlim()\n",
    "plt.grid(True, which='both')\n",
    "plt.tight_layout()\n",
    "plt.savefig('xc2.png')\n",
    "plt.show()\n",
    "plt.close()"
   ]
  },
  {
   "cell_type": "code",
   "execution_count": 23,
   "id": "1d57da32",
   "metadata": {},
   "outputs": [
    {
     "name": "stdout",
     "output_type": "stream",
     "text": [
      "(34, 100, 100, 11)\n"
     ]
    }
   ],
   "source": [
    "Grid_ext = np.repeat(np.expand_dims(Grid, 0), 34, axis=0)\n",
    "print(Grid_ext.shape)"
   ]
  },
  {
   "cell_type": "code",
   "execution_count": 24,
   "id": "391a581e",
   "metadata": {},
   "outputs": [
    {
     "name": "stdout",
     "output_type": "stream",
     "text": [
      "(34, 100, 100, 11) (34, 100, 100, 11)\n"
     ]
    }
   ],
   "source": [
    "yp_g = np.zeros((34,100,100,11)).reshape(34,-1,order='F')\n",
    "ys_g = np.zeros((34,100,100,11)).reshape(34,-1,order='F')\n",
    "for t in range(34):\n",
    "    yp_g[t,indexMap] = y[t,0]\n",
    "    ys_g[t,indexMap] = y[t,1]\n",
    "yp_g = yp_g.reshape((34,100,100,11), order='F')\n",
    "ys_g = ys_g.reshape((34,100,100,11), order='F')\n",
    "\n",
    "yp = np.ma.masked_where(Grid_ext==0, yp_g)\n",
    "ys = np.ma.masked_where(Grid_ext==0, ys_g)\n",
    "\n",
    "print(yp.shape, ys.shape)"
   ]
  },
  {
   "cell_type": "code",
   "execution_count": 56,
   "id": "6b2d2c42",
   "metadata": {},
   "outputs": [],
   "source": [
    "fig, axs = plt.subplots(5, 17, figsize=(20,10), sharex=True, sharey=True)\n",
    "for i in range(5):\n",
    "    for j in range(17):\n",
    "        ax = axs[i,j]\n",
    "        ax.imshow(yp[j*2,:,:,i+5], cmap='jet')\n",
    "plt.tight_layout()\n",
    "plt.savefig('yp.png')\n",
    "plt.show()\n",
    "plt.close()"
   ]
  },
  {
   "cell_type": "code",
   "execution_count": 57,
   "id": "519fe457",
   "metadata": {},
   "outputs": [],
   "source": [
    "fig, axs = plt.subplots(5, 17, figsize=(20,10), sharex=True, sharey=True)\n",
    "for i in range(5):\n",
    "    for j in range(17):\n",
    "        ax = axs[i,j]\n",
    "        ax.imshow(ys[j*2,:,:,i+5], cmap='jet')\n",
    "plt.tight_layout()\n",
    "plt.savefig('ys.png')\n",
    "plt.show()\n",
    "plt.close()"
   ]
  },
  {
   "cell_type": "code",
   "execution_count": 45,
   "id": "ac3f6ecd",
   "metadata": {},
   "outputs": [],
   "source": [
    "xm, xg, xw, xc, xt = x\n",
    "\n",
    "c, h, w, d = xm.shape\n",
    "xm = xm.view(1, c, h, w, d)\n",
    "xg = xg.view(1, c, h, w, d)\n",
    "xw = xw.view(1, 2, 5)\n",
    "xc = xc.view(1, 34, 5)\n",
    "xt = xt.view(1, 34, 1)"
   ]
  },
  {
   "cell_type": "code",
   "execution_count": 50,
   "id": "2793b165",
   "metadata": {},
   "outputs": [
    {
     "name": "stdout",
     "output_type": "stream",
     "text": [
      "(34, 29128) (34, 29128)\n"
     ]
    }
   ],
   "source": [
    "y_pred = model([xm,xg,xw,xc,xt])\n",
    "yp_pred = y_pred[0,:,0].cpu().detach().numpy()\n",
    "ys_pred = y_pred[0,:,1].cpu().detach().numpy()\n",
    "print(yp_pred.shape, ys_pred.shape)"
   ]
  },
  {
   "cell_type": "code",
   "execution_count": 51,
   "id": "b154d39e",
   "metadata": {},
   "outputs": [
    {
     "name": "stdout",
     "output_type": "stream",
     "text": [
      "(34, 100, 100, 11) (34, 100, 100, 11)\n"
     ]
    }
   ],
   "source": [
    "yp_pred_g = np.zeros((34,100,100,11)).reshape(34,-1,order='F')\n",
    "ys_pred_g = np.zeros((34,100,100,11)).reshape(34,-1,order='F')\n",
    "for t in range(34):\n",
    "    yp_pred_g[t,indexMap] = yp_pred[t]\n",
    "    ys_pred_g[t,indexMap] = ys_pred[t]\n",
    "yp_pred_g = yp_g.reshape((34,100,100,11), order='F')\n",
    "ys_pred_g = ys_g.reshape((34,100,100,11), order='F')\n",
    "\n",
    "yp_pred = np.ma.masked_where(Grid_ext==0, yp_pred_g)\n",
    "ys_pred = np.ma.masked_where(Grid_ext==0, ys_pred_g)\n",
    "\n",
    "print(yp.shape, ys.shape)"
   ]
  },
  {
   "cell_type": "code",
   "execution_count": 54,
   "id": "7d5d7c78",
   "metadata": {},
   "outputs": [],
   "source": [
    "fig, axs = plt.subplots(5, 17, figsize=(20,10), sharex=True, sharey=True)\n",
    "for i in range(5):\n",
    "    for j in range(17):\n",
    "        ax = axs[i,j]\n",
    "        ax.imshow(yp_pred[j*2,:,:,i+5], cmap='jet')\n",
    "plt.tight_layout()\n",
    "plt.savefig('yp_pred.png')\n",
    "plt.show()\n",
    "plt.close()"
   ]
  },
  {
   "cell_type": "code",
   "execution_count": 55,
   "id": "394196da",
   "metadata": {},
   "outputs": [],
   "source": [
    "fig, axs = plt.subplots(5, 17, figsize=(20,10), sharex=True, sharey=True)\n",
    "for i in range(5):\n",
    "    for j in range(17):\n",
    "        ax = axs[i,j]\n",
    "        ax.imshow(ys_pred[j*2,:,:,i+5], cmap='jet')\n",
    "plt.tight_layout()\n",
    "plt.savefig('ys_pred.png')\n",
    "plt.show()\n",
    "plt.close()"
   ]
  },
  {
   "cell_type": "markdown",
   "id": "aa6990f4",
   "metadata": {},
   "source": [
    "***\n",
    "# END"
   ]
  }
 ],
 "metadata": {
  "kernelspec": {
   "display_name": "Python 3 (ipykernel)",
   "language": "python",
   "name": "python3"
  },
  "language_info": {
   "codemirror_mode": {
    "name": "ipython",
    "version": 3
   },
   "file_extension": ".py",
   "mimetype": "text/x-python",
   "name": "python",
   "nbconvert_exporter": "python",
   "pygments_lexer": "ipython3",
   "version": "3.9.7"
  }
 },
 "nbformat": 4,
 "nbformat_minor": 5
}

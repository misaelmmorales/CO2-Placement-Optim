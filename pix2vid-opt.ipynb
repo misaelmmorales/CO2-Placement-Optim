{
 "cells": [
  {
   "cell_type": "code",
   "execution_count": 11,
   "metadata": {},
   "outputs": [
    {
     "name": "stdout",
     "output_type": "stream",
     "text": [
      "--------------------------------------------------------------\n",
      "------------------------ VERSION INFO ------------------------\n",
      "TF version: 2.15.0 | Keras: 3.5.0 | # Device(s) available: 2\n",
      "TF Built with CUDA? True | CUDA: 12.2 | cuDNN: 8\n",
      "PhysicalDevice(name='/physical_device:GPU:0', device_type='GPU')\n",
      "--------------------------------------------------------------\n",
      "\n"
     ]
    }
   ],
   "source": [
    "import os\n",
    "os.environ['TF_CPP_MIN_LOG_LEVEL'] = '3'\n",
    "from time import time\n",
    "from tqdm import tqdm\n",
    "\n",
    "import numpy as np\n",
    "import pandas as pd\n",
    "import scipy.io as sio\n",
    "import matplotlib.pyplot as plt\n",
    "\n",
    "import tensorflow as tf\n",
    "from pix2vid2 import make_model\n",
    "from utils import check_tf_gpu, describe_data, load_data\n",
    "\n",
    "msteps = [0, 2, 4, 6, 8, 10, 12, 14, 16, 18]\n",
    "NUM_REALIZATIONS = 1000\n",
    "NX,  NY,  NZ = 64, 64, 1\n",
    "NTT, NT1, NT2 = 40, 20, len(msteps)\n",
    "HIDDEN = [16, 64, 256]\n",
    "\n",
    "folder     = 'SlopingAquiferSmall/simulationsVE'\n",
    "sec2year   = 365.25 * 24 * 60 * 60\n",
    "Darcy      = 9.869233e-13\n",
    "psi2pascal = 6894.76\n",
    "co2_rho    = 686.5266\n",
    "milli      = 1e-3\n",
    "mega       = 1e6\n",
    "check_tf_gpu()"
   ]
  },
  {
   "cell_type": "code",
   "execution_count": 13,
   "metadata": {},
   "outputs": [
    {
     "name": "stdout",
     "output_type": "stream",
     "text": [
      "timesteps: 40 | deltatime: [  0.5 100. ]\n",
      "injection: [ 0.5  1.   1.5  2.   2.5  3.   3.5  4.   4.5  5.   5.5  6.   6.5  7.\n",
      "  7.5  8.   8.5  9.   9.5 10. ]\n",
      "monitoring: [ 110.  310.  510.  710.  910. 1110. 1310. 1510. 1710. 1910.]\n"
     ]
    }
   ],
   "source": [
    "gt = sio.loadmat('{}/grids/Gt.mat'.format(folder), simplify_cells=True)['Gt']\n",
    "gtops = gt['cells']['z'].reshape(NX,NY,order='F')\n",
    "gvols = gt['parent']['cells']['volumes'].reshape(NX,NY,order='F')\n",
    "ghght = gt['cells']['H'].reshape(NX,NY,order='F')\n",
    "\n",
    "deltatime = sio.loadmat('{}/data/time_arr.mat'.format(folder), simplify_cells=True)['time_arr']\n",
    "timesteps = np.cumsum(deltatime)\n",
    "timesteps_inj = timesteps[:20]\n",
    "timesteps_mon = timesteps[20:][msteps]\n",
    "#timesteps_mon = timesteps[[19, 24, 29, 34, 39]]\n",
    "\n",
    "print('timesteps: {} | deltatime: {}'.format(len(timesteps), np.unique(deltatime)))\n",
    "print('injection: {}'.format(timesteps_inj))\n",
    "print('monitoring: {}'.format(timesteps_mon))"
   ]
  },
  {
   "cell_type": "code",
   "execution_count": 15,
   "metadata": {},
   "outputs": [
    {
     "name": "stdout",
     "output_type": "stream",
     "text": [
      "X: (1000, 64, 64, 5) | c: (1000, 20, 5)\n",
      "y1: (1000, 20, 64, 64, 2) | y2: (1000, 20, 64, 64, 1)\n",
      "porosity     - min: -0.62 | max: 2.36\n",
      "logperm      - min: -2.20 | max: 2.49\n",
      "wells        - min: 0.00 | max: 1.00\n",
      "tops         - min: 0.00 | max: 1.00\n",
      "volumes      - min: 0.00 | max: 1.00\n",
      "controls     - min: 0.00 | max: 0.97\n",
      "pressure_1   - min: 0.00 | max: 15.39\n",
      "saturation_1 - min: 0.00 | max: 1.00\n",
      "saturation_2 - min: 0.00 | max: 1.00\n"
     ]
    }
   ],
   "source": [
    "datas, norms = load_data(folder)\n",
    "X_data, c_data, y1_data, y2_data = datas.values()"
   ]
  },
  {
   "cell_type": "code",
   "execution_count": 16,
   "metadata": {},
   "outputs": [],
   "source": [
    "train_idx = np.load('{}/models/training_idx.npy'.format(folder))\n",
    "test_idx  = np.setdiff1d(range(len(X_data)), train_idx)\n",
    "\n",
    "tridx = train_idx[:20]\n",
    "teidx = test_idx[:20]\n",
    "\n",
    "X_train  = tf.cast(X_data[tridx], tf.float32)\n",
    "c_train  = tf.cast(c_data[tridx], tf.float32)\n",
    "y1_train = tf.cast(y1_data[tridx], tf.float32)\n",
    "y2_train = tf.cast(y2_data[tridx], tf.float32)\n",
    "\n",
    "X_test  = tf.cast(X_data[teidx], tf.float32)\n",
    "c_test  = tf.cast(c_data[teidx], tf.float32)\n",
    "y1_test = tf.cast(y1_data[teidx], tf.float32)\n",
    "y2_test = tf.cast(y2_data[teidx], tf.float32)"
   ]
  },
  {
   "cell_type": "code",
   "execution_count": null,
   "metadata": {},
   "outputs": [],
   "source": [
    "model_inj, model_mon = make_model(hidden=HIDDEN, nt1=NT1, nt2=NT2)\n",
    "\n",
    "model_inj.load_weights('models/pix2vid-v2-inj.weights.h5')\n",
    "model_mon.load_weights('models/pix2vid-v2-mon.weights.h5')\n",
    "\n",
    "y1_train_pred = model_inj.predict([X_train, c_train], verbose=False)\n",
    "y2_train_pred = model_mon.predict([X_train, c_train], verbose=False)\n",
    "\n",
    "y1_test_pred = model_inj.predict([X_test, c_test], verbose=False)\n",
    "y2_test_pred = model_mon.predict([X_test, c_test], verbose=False)\n",
    "\n",
    "y1_train_pred = np.array(y1_train_pred)\n",
    "y2_train_pred = np.array(y2_train_pred)\n",
    "y1_test_pred = np.array(y1_test_pred)\n",
    "y2_test_pred = np.array(y2_test_pred)\n",
    "\n",
    "X_train = np.array(X_train)\n",
    "c_train = np.array(c_train)\n",
    "y1_train = np.array(y1_train)\n",
    "y2_train = np.array(y2_train)\n",
    "\n",
    "X_test = np.array(X_test)\n",
    "c_test = np.array(c_test)\n",
    "y1_test = np.array(y1_test)\n",
    "y2_test = np.array(y2_test)\n",
    "\n",
    "print('Train - y1: {} | y2: {}'.format(y1_train_pred.shape, y2_train_pred.shape))\n",
    "print('Test - y1: {} | y2: {}'.format(y1_test_pred.shape, y2_test_pred.shape))"
   ]
  },
  {
   "cell_type": "code",
   "execution_count": null,
   "metadata": {},
   "outputs": [],
   "source": [
    "sample = 13\n",
    "\n",
    "fig, axs = plt.subplots(3, 10, figsize=(15,5), sharex=True, sharey=True)\n",
    "for j in range(10):\n",
    "    ax1, ax2, ax3 = axs[0,j], axs[1,j], axs[2,j]\n",
    "    k = j*2\n",
    "    \n",
    "    t = y1_train[sample, k, ..., 0]\n",
    "    p = y1_train_pred[sample, k, ..., 0]\n",
    "    e = np.linalg.norm(t.reshape(1,64,64)-p.reshape(1,64,64), axis=0)\n",
    "\n",
    "    im1 = ax1.imshow(t, cmap='jet')\n",
    "    im2 = ax2.imshow(p, cmap='jet')\n",
    "    im3 = ax3.imshow(e, cmap='binary')\n",
    "    [plt.colorbar(ii, pad=0.04, fraction=0.046) for ii in [im1,im2,im3]]\n",
    "    ax1.set_title('t={}'.format(timesteps[k]))\n",
    "    \n",
    "plt.tight_layout()\n",
    "plt.show()\n",
    "\n",
    "fig, axs = plt.subplots(3, 10, figsize=(15,5), sharex=True, sharey=True)\n",
    "for j in range(10):\n",
    "    ax1, ax2, ax3 = axs[0,j], axs[1,j], axs[2,j]\n",
    "    k = j*2\n",
    "    \n",
    "    t = y1_train[sample, k, ..., 1]\n",
    "    p = y1_train_pred[sample, k, ..., 1]\n",
    "    e = np.linalg.norm(t.reshape(1,64,64)-p.reshape(1,64,64), axis=0)\n",
    "\n",
    "    im1 = ax1.imshow(t, cmap='jet')\n",
    "    im2 = ax2.imshow(p, cmap='jet')\n",
    "    im3 = ax3.imshow(e, cmap='binary')\n",
    "    [plt.colorbar(ii, pad=0.04, fraction=0.046) for ii in [im1,im2,im3]]\n",
    "    ax1.set_title('t={}'.format(timesteps[k]))\n",
    "    \n",
    "plt.tight_layout()\n",
    "plt.show()\n",
    "\n",
    "fig, axs = plt.subplots(3, 8, figsize=(15,5), sharex=True, sharey=True)\n",
    "for j in range(8):\n",
    "    ax1, ax2, ax3 = axs[0,j], axs[1,j], axs[2,j]\n",
    "\n",
    "    t = y2_train[sample, j, ..., -1]\n",
    "    p = y2_train_pred[sample, j, ..., -1]\n",
    "    e = np.linalg.norm(t.reshape(1,64,64)-p.reshape(1,64,64), axis=0)\n",
    "\n",
    "    im1 = ax1.imshow(t, cmap='jet')\n",
    "    im2 = ax2.imshow(p, cmap='jet')\n",
    "    im3 = ax3.imshow(e, cmap='binary')\n",
    "    [plt.colorbar(ii, pad=0.04, fraction=0.046) for ii in [im1,im2,im3]]\n",
    "    ax1.set_title('t={}'.format(timesteps_mon[j]))\n",
    "\n",
    "plt.tight_layout()\n",
    "plt.show()"
   ]
  },
  {
   "cell_type": "code",
   "execution_count": null,
   "metadata": {},
   "outputs": [],
   "source": [
    "hues = ['tab:blue', 'tab:orange', 'tab:green', 'tab:red', 'tab:purple']\n",
    "plt.figure(figsize=(15,7.5))\n",
    "for i in range(15):\n",
    "    plt.subplot(3, 5, i+1)\n",
    "    d = c_data[i]\n",
    "    nw = len(np.unique(d.sum(0)))-1\n",
    "    for w in range(nw):\n",
    "        for t in range(len(timesteps_inj)-1):\n",
    "            plt.hlines(d[t,w], timesteps_inj[t], timesteps_inj[t+1], color=hues[w])\n",
    "            plt.vlines(timesteps_inj[t+1], d[t,w], d[t+1,w], color=hues[w], ls=':', lw=0.5)\n",
    "    plt.title('R{} | ({})'.format(i, nw))\n",
    "    plt.xlim(0.5,10)\n",
    "    plt.ylim(0,None)\n",
    "    plt.xticks(np.arange(1,11))\n",
    "    plt.grid(True, which='both', alpha=0.25)\n",
    "    plt.xlabel('Time (years)') if i > 9 else None\n",
    "    plt.ylabel('Inj. Rate (MT CO2)') if i % 5 == 0 else None\n",
    "plt.tight_layout()\n",
    "plt.show()"
   ]
  },
  {
   "cell_type": "markdown",
   "metadata": {},
   "source": [
    "***\n",
    "### Optimization"
   ]
  },
  {
   "cell_type": "code",
   "execution_count": null,
   "metadata": {},
   "outputs": [],
   "source": [
    "porevol = np.load('{}/simulations/data/porevol.npy'.format(folder))\n",
    "porevol.shape"
   ]
  },
  {
   "cell_type": "code",
   "execution_count": null,
   "metadata": {},
   "outputs": [],
   "source": [
    "sample = 123\n",
    "\n",
    "dc = c_train[sample].sum()\n",
    "print(dc)\n",
    "\n",
    "dd = (y2_train[sample, -1].squeeze() * porevol[sample]) / 1e3 / mega * co2_rho\n",
    "print(np.sum(dd))\n",
    "\n",
    "plt.imshow(dd, cmap='jet')\n",
    "plt.colorbar()\n",
    "plt.show()"
   ]
  },
  {
   "cell_type": "code",
   "execution_count": null,
   "metadata": {},
   "outputs": [],
   "source": []
  }
 ],
 "metadata": {
  "kernelspec": {
   "display_name": "flow",
   "language": "python",
   "name": "python3"
  },
  "language_info": {
   "codemirror_mode": {
    "name": "ipython",
    "version": 3
   },
   "file_extension": ".py",
   "mimetype": "text/x-python",
   "name": "python",
   "nbconvert_exporter": "python",
   "pygments_lexer": "ipython3",
   "version": "3.9.19"
  }
 },
 "nbformat": 4,
 "nbformat_minor": 2
}

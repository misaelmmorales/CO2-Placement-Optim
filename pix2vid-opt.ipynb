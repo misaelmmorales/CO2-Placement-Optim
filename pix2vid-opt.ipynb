{
 "cells": [
  {
   "cell_type": "code",
   "execution_count": 1,
   "metadata": {},
   "outputs": [
    {
     "name": "stdout",
     "output_type": "stream",
     "text": [
      "--------------------------------------------------------------\n",
      "------------------------ VERSION INFO ------------------------\n",
      "TF version: 2.15.0 | Keras: 3.5.0 | # Device(s) available: 2\n",
      "TF Built with CUDA? True | CUDA: 12.2 | cuDNN: 8\n",
      "PhysicalDevice(name='/physical_device:GPU:0', device_type='GPU')\n",
      "--------------------------------------------------------------\n",
      "\n"
     ]
    }
   ],
   "source": [
    "import os\n",
    "os.environ['TF_CPP_MIN_LOG_LEVEL'] = '3'\n",
    "from time import time\n",
    "from tqdm import tqdm\n",
    "\n",
    "import numpy as np\n",
    "import pandas as pd\n",
    "import scipy.io as sio\n",
    "import matplotlib.pyplot as plt\n",
    "\n",
    "from pix2vid2 import make_model\n",
    "from utils import check_tf_gpu, describe_data\n",
    "\n",
    "NUM_REALIZATIONS = 929\n",
    "NX,  NY,  NZ = 64, 64, 1\n",
    "NTT, NT1, NT2 = 40, 20, 5\n",
    "HIDDEN = [16, 64, 256]\n",
    "\n",
    "folder     = 'SlopingAquiferSmall'\n",
    "sec2year   = 365.25 * 24 * 60 * 60\n",
    "Darcy      = 9.869233e-13\n",
    "psi2pascal = 6894.76\n",
    "co2_rho    = 686.5266\n",
    "milli      = 1e-3\n",
    "mega       = 1e6\n",
    "check_tf_gpu()"
   ]
  },
  {
   "cell_type": "code",
   "execution_count": 2,
   "metadata": {},
   "outputs": [
    {
     "name": "stdout",
     "output_type": "stream",
     "text": [
      "timesteps: 40 | deltatime: [ 0.5 50. ]\n",
      "injection: [ 0.5  1.   1.5  2.   2.5  3.   3.5  4.   4.5  5.   5.5  6.   6.5  7.\n",
      "  7.5  8.   8.5  9.   9.5 10. ]\n",
      "monitoring: [ 110.  260.  510.  760. 1010.]\n"
     ]
    }
   ],
   "source": [
    "deltatime = sio.loadmat('{}/simulations/data/time_arr.mat'.format(folder), simplify_cells=True)['time_arr']\n",
    "timesteps = np.cumsum(deltatime)\n",
    "timesteps_inj = timesteps[:20]\n",
    "timesteps_mon = timesteps[[21, 24, 29, 34, 39]]\n",
    "\n",
    "print('timesteps: {} | deltatime: {}'.format(len(timesteps), np.unique(deltatime)))\n",
    "print('injection: {}'.format(timesteps_inj))\n",
    "print('monitoring: {}'.format(timesteps_mon))"
   ]
  },
  {
   "cell_type": "code",
   "execution_count": 3,
   "metadata": {},
   "outputs": [
    {
     "name": "stdout",
     "output_type": "stream",
     "text": [
      "X: (929, 64, 64, 5) | c: (929, 20, 5)\n",
      "y1: (929, 20, 64, 64, 2) | y2: (929, 5, 64, 64, 1)\n",
      "porosity     - min: -0.62 | max: 2.35\n",
      "logperm      - min: -2.19 | max: 2.48\n",
      "wells        - min: 0.00 | max: 1.00\n",
      "tops         - min: 0.00 | max: 1.00\n",
      "volumes      - min: 0.00 | max: 1.00\n",
      "controls     - min: 0.00 | max: 0.83\n",
      "pressure_1   - min: 0.08 | max: 0.91\n",
      "saturation_1 - min: 0.00 | max: 0.93\n",
      "saturation_2 - min: 0.00 | max: 0.93\n"
     ]
    }
   ],
   "source": [
    "# Load data\n",
    "X_data = np.load('{}/simulations/data/X_data.npy'.format(folder))\n",
    "c_data = np.load('{}/simulations/data/c_data.npy'.format(folder))\n",
    "y1_data = np.load('{}/simulations/data/y1_data.npy'.format(folder))\n",
    "y2_data = np.load('{}/simulations/data/y2_data.npy'.format(folder))[:,[1, 4, 9, 14, 19]]\n",
    "\n",
    "# Normalize data\n",
    "pmu, psd = X_data[...,0].mean(), X_data[...,0].std() # porosity\n",
    "kmu, ksd = X_data[...,1].mean(), X_data[...,1].std() # permeability\n",
    "wmi, wma = X_data[...,2].min(),  X_data[...,2].max() # wells\n",
    "tmi, tma = X_data[...,3].min(),  X_data[...,3].max() # tops\n",
    "vmi, vma = X_data[...,4].min(),  X_data[...,4].max() # volumes\n",
    "cmi, cma = c_data.min(),         c_data.max()        # controls\n",
    "\n",
    "X_data[...,0] = (X_data[...,0] - pmu) / (3.33*psd)\n",
    "X_data[...,1] = (X_data[...,1] - kmu) / (3.33*ksd)\n",
    "X_data[...,2] = (X_data[...,2] - wmi) / (wma - wmi)\n",
    "X_data[...,3] = (X_data[...,3] - tmi) / (tma - tmi)\n",
    "X_data[...,4] = (X_data[...,4] - vmi) / (vma - vmi)\n",
    "c_data = c_data / 2.0\n",
    "\n",
    "y1_data[...,0]  = y1_data[...,0]  / 50e3\n",
    "y1_data[...,-1] = y1_data[...,-1] / 0.73\n",
    "y2_data[...,-1] = y2_data[...,-1] / 0.73\n",
    "\n",
    "describe_data(X_data, c_data, y1_data, y2_data)"
   ]
  },
  {
   "cell_type": "code",
   "execution_count": 4,
   "metadata": {},
   "outputs": [
    {
     "name": "stdout",
     "output_type": "stream",
     "text": [
      "X_train:  (800, 64, 64, 5)     | c_train: (800, 20, 5)\n",
      "y1_train: (800, 20, 64, 64, 2) | y2_train: (800, 5, 64, 64, 1)\n",
      "----------------------------------------------------------------------\n",
      "X_test:  (129, 64, 64, 5)     | c_test: (129, 20, 5)\n",
      "y1_test: (129, 20, 64, 64, 2) | y2_test: (129, 5, 64, 64, 1)\n"
     ]
    }
   ],
   "source": [
    "train_idx = np.load('{}/models/training_idx.npy'.format(folder))\n",
    "test_idx  = np.setdiff1d(range(len(X_data)), train_idx)\n",
    "\n",
    "X_train = X_data[train_idx].astype(np.float32)\n",
    "c_train = c_data[train_idx].astype(np.float32)\n",
    "y1_train = y1_data[train_idx].astype(np.float32)\n",
    "y2_train = y2_data[train_idx].astype(np.float32)\n",
    "X_test = X_data[test_idx].astype(np.float32)\n",
    "c_test = c_data[test_idx].astype(np.float32)\n",
    "y1_test = y1_data[test_idx].astype(np.float32)\n",
    "y2_test = y2_data[test_idx].astype(np.float32)\n",
    "\n",
    "print('X_train:  {}     | c_train: {}'.format(X_train.shape, c_train.shape))\n",
    "print('y1_train: {} | y2_train: {}'.format(y1_train.shape, y2_train.shape))\n",
    "print('-'*70)\n",
    "print('X_test:  {}     | c_test: {}'.format(X_test.shape, c_test.shape))\n",
    "print('y1_test: {} | y2_test: {}'.format(y1_test.shape, y2_test.shape))"
   ]
  },
  {
   "cell_type": "code",
   "execution_count": 5,
   "metadata": {},
   "outputs": [
    {
     "name": "stdout",
     "output_type": "stream",
     "text": [
      "# parameters: 99,917,310\n"
     ]
    }
   ],
   "source": [
    "model = make_model(hidden=HIDDEN)\n",
    "model.load_weights('{}/models/pix2vid-v2.weights.h5'.format(folder))"
   ]
  },
  {
   "cell_type": "code",
   "execution_count": null,
   "metadata": {},
   "outputs": [],
   "source": []
  }
 ],
 "metadata": {
  "kernelspec": {
   "display_name": "flow",
   "language": "python",
   "name": "python3"
  },
  "language_info": {
   "codemirror_mode": {
    "name": "ipython",
    "version": 3
   },
   "file_extension": ".py",
   "mimetype": "text/x-python",
   "name": "python",
   "nbconvert_exporter": "python",
   "pygments_lexer": "ipython3",
   "version": "3.9.19"
  }
 },
 "nbformat": 4,
 "nbformat_minor": 2
}

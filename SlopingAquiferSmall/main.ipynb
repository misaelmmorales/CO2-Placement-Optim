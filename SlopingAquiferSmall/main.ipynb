{
 "cells": [
  {
   "cell_type": "code",
   "execution_count": 23,
   "metadata": {},
   "outputs": [],
   "source": [
    "import os\n",
    "import numpy as np\n",
    "import pandas as pd\n",
    "from time import time\n",
    "from tqdm import tqdm\n",
    "import matplotlib.pyplot as plt\n",
    "\n",
    "import scipy.io as sio\n",
    "from skimage.transform import resize\n",
    "from sklearn.preprocessing import MinMaxScaler\n",
    "\n",
    "from sklearn.metrics import r2_score\n",
    "from skimage.metrics import mean_squared_error, structural_similarity, peak_signal_noise_ratio\n",
    "\n",
    "import torch\n",
    "import torch.nn as nn\n",
    "import torch.optim as optim\n",
    "\n",
    "from utils import check_torch, pix2vid_dataset, DualCustomLoss, DualLpLoss, NeuralPix2Vid"
   ]
  },
  {
   "cell_type": "code",
   "execution_count": 24,
   "metadata": {},
   "outputs": [
    {
     "name": "stdout",
     "output_type": "stream",
     "text": [
      "------------------------------------------------------------\n",
      "----------------------- VERSION INFO -----------------------\n",
      "Torch version: 2.3.1.post300 | Torch Built with CUDA? True\n",
      "# Device(s) available: 1, Name(s): NVIDIA GeForce RTX 3090\n",
      "Torch device: cuda\n",
      "------------------------------------------------------------\n"
     ]
    }
   ],
   "source": [
    "NR, NT = 1272, 40\n",
    "NX, NY = 40, 40\n",
    "milli  = 1e-3\n",
    "mega   = 1e6\n",
    "Darcy  = 9.869233e-13\n",
    "psi2pa = 6894.75729\n",
    "co2rho = 686.5400\n",
    "sec2yr = 1/(3600*24*365.25)\n",
    "device = check_torch()"
   ]
  },
  {
   "cell_type": "code",
   "execution_count": 52,
   "metadata": {},
   "outputs": [
    {
     "name": "stderr",
     "output_type": "stream",
     "text": [
      "100%|██████████| 40/40 [00:00<00:00, 54260.08it/s]"
     ]
    },
    {
     "name": "stdout",
     "output_type": "stream",
     "text": [
      "(40, 2, 40, 40)\n"
     ]
    },
    {
     "name": "stderr",
     "output_type": "stream",
     "text": [
      "\n"
     ]
    }
   ],
   "source": [
    "pressure = np.zeros((NT, NX, NY))\n",
    "saturation = np.zeros((NT, NX, NY))\n",
    "d = sio.loadmat('simulations_40x40/states/states_368.mat', simplify_cells=True)['var']\n",
    "for j in tqdm(range(NT)):\n",
    "    pressure[j] = d[j]['pressure'].reshape(NX, NY, order='F')\n",
    "    saturation[j] = d[j]['s'].reshape(NX, NY, order='F')\n",
    "\n",
    "temp = np.stack([pressure, saturation], axis=1)\n",
    "print(temp.shape)"
   ]
  },
  {
   "cell_type": "code",
   "execution_count": 53,
   "metadata": {},
   "outputs": [
    {
     "data": {
      "image/png": "[encoded data removed]",
      "text/plain": [
       "<Figure size 1500x500 with 20 Axes>"
      ]
     },
     "metadata": {},
     "output_type": "display_data"
    }
   ],
   "source": [
    "fig, axs = plt.subplots(2, 10, figsize=(15,5), sharex=True, sharey=True)\n",
    "for i in range(2):\n",
    "    for j in range(10):\n",
    "        ax = axs[i,j]\n",
    "        k = j*4+1\n",
    "        ax.imshow(temp[k,i], cmap='jet')\n",
    "        ax.axis('off')\n",
    "plt.tight_layout()\n",
    "plt.show()"
   ]
  },
  {
   "cell_type": "code",
   "execution_count": null,
   "metadata": {},
   "outputs": [],
   "source": []
  },
  {
   "cell_type": "code",
   "execution_count": null,
   "metadata": {},
   "outputs": [],
   "source": []
  },
  {
   "cell_type": "code",
   "execution_count": 3,
   "metadata": {},
   "outputs": [
    {
     "name": "stdout",
     "output_type": "stream",
     "text": [
      "timesteps: 40 | deltaT: [  0.5 250. ]\n",
      "tops2d: (40, 40)\n"
     ]
    }
   ],
   "source": [
    "tt = np.load('simulations_40x40/timesteps.npz')\n",
    "timesteps, deltaTime = tt['timesteps'], tt['deltatime']\n",
    "t0steps = timesteps[:20]\n",
    "print('timesteps: {} | deltaT: {}'.format(len(timesteps), np.unique(deltaTime)))\n",
    "\n",
    "tops2d = sio.loadmat('simulations_40x40/Gt.mat', simplify_cells=True)['Gt']['cells']['z'].reshape(NX,NY,order='F')\n",
    "print('tops2d: {}'.format(tops2d.shape))"
   ]
  },
  {
   "cell_type": "code",
   "execution_count": 5,
   "metadata": {},
   "outputs": [],
   "source": [
    "folder = 'simulations_40x40'\n",
    "X_data  = np.load('{}/X_data.npy'.format(folder))\n",
    "c_data  = np.load('{}/c_data.npy'.format(folder)) * co2rho\n",
    "y1_data = np.load('{}/y1_data.npy'.format(folder))\n",
    "y2_data = np.load('{}/y2_data.npy'.format(folder))"
   ]
  },
  {
   "cell_type": "code",
   "execution_count": 16,
   "metadata": {},
   "outputs": [
    {
     "data": {
      "text/plain": [
       "3.365964225243943e-15"
      ]
     },
     "execution_count": 16,
     "metadata": {},
     "output_type": "execute_result"
    }
   ],
   "source": [
    "X_data[:,1].max()"
   ]
  },
  {
   "cell_type": "code",
   "execution_count": null,
   "metadata": {},
   "outputs": [],
   "source": []
  },
  {
   "cell_type": "code",
   "execution_count": null,
   "metadata": {},
   "outputs": [],
   "source": [
    "(Xt, ct, y1t, y2t, all_volumes, idx), (trainloader, validloader) = pix2vid_dataset(folder='simulations_40x40',\n",
    "                                                                                   batch_size=8,\n",
    "                                                                                   send_to_device=True, \n",
    "                                                                                   device=device)"
   ]
  },
  {
   "cell_type": "code",
   "execution_count": null,
   "metadata": {},
   "outputs": [],
   "source": [
    "model = NeuralPix2Vid(device=device).to(device)\n",
    "nparams = sum(p.numel() for p in model.parameters() if p.requires_grad)\n",
    "print('# parameters: {:,} | device: {}'.format(nparams, model.device))\n",
    "criterion = DualLpLoss().to(device)\n",
    "optimizer = optim.Adam(model.parameters(), lr=1e-3)"
   ]
  },
  {
   "cell_type": "code",
   "execution_count": null,
   "metadata": {},
   "outputs": [],
   "source": [
    "start = time()\n",
    "epochs, monitor = 10, 1\n",
    "train_loss, valid_loss = [], []\n",
    "for epoch in range(epochs):\n",
    "    epoch_train_loss = []\n",
    "    model.train()\n",
    "    for i, (x,c,y1,y2) in enumerate(trainloader):\n",
    "        optimizer.zero_grad()\n",
    "        u1, u2 = model(x,c)\n",
    "        loss = criterion(y1, y2, u1, u2)\n",
    "        loss.backward()\n",
    "        optimizer.step()\n",
    "        epoch_train_loss.append(loss.item())\n",
    "    train_loss.append(np.mean(epoch_train_loss))\n",
    "    # validation\n",
    "    model.eval()\n",
    "    epoch_valid_loss = []\n",
    "    with torch.no_grad():\n",
    "        for i, (x,c,y1,y2) in enumerate(validloader):\n",
    "            u1, u2 = model(x,c)\n",
    "            loss = criterion(y1, y2, u1, u2)\n",
    "            epoch_valid_loss.append(loss.item())\n",
    "    valid_loss.append(np.mean(epoch_valid_loss))\n",
    "    # progress\n",
    "    if (epoch+1) % monitor == 0:\n",
    "        print('Epoch: [{}/{}] | Train Loss: {:.5f} | Valid Loss: {:.5f}'.format(epoch+1, epochs, train_loss[-1], valid_loss[-1]))\n",
    "\n",
    "print('Total training time: {:.3f} minuts'.format((time()-start)/60))\n",
    "torch.save(model.state_dict(), 'model.pth')\n",
    "losses = pd.DataFrame({'train': train_loss, 'valid': valid_loss})\n",
    "losses.to_csv('losses.csv', index=False)"
   ]
  },
  {
   "cell_type": "code",
   "execution_count": null,
   "metadata": {},
   "outputs": [],
   "source": []
  }
 ],
 "metadata": {
  "kernelspec": {
   "display_name": "flow",
   "language": "python",
   "name": "python3"
  },
  "language_info": {
   "codemirror_mode": {
    "name": "ipython",
    "version": 3
   },
   "file_extension": ".py",
   "mimetype": "text/x-python",
   "name": "python",
   "nbconvert_exporter": "python",
   "pygments_lexer": "ipython3",
   "version": "3.11.9"
  }
 },
 "nbformat": 4,
 "nbformat_minor": 2
}

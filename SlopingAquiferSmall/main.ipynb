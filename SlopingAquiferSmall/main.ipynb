{
 "cells": [
  {
   "cell_type": "code",
   "execution_count": 1,
   "metadata": {},
   "outputs": [],
   "source": [
    "import numpy as np\n",
    "import pandas as pd\n",
    "from time import time\n",
    "from tqdm import tqdm\n",
    "import matplotlib.pyplot as plt\n",
    "\n",
    "from sklearn.metrics import r2_score\n",
    "from skimage.metrics import mean_squared_error, structural_similarity, peak_signal_noise_ratio\n",
    "\n",
    "import torch\n",
    "import torch.nn as nn\n",
    "import torch.optim as optim\n",
    "\n",
    "from utils import check_torch, pix2vid_dataset, NeuralPix2Vid"
   ]
  },
  {
   "cell_type": "code",
   "execution_count": 2,
   "metadata": {},
   "outputs": [
    {
     "name": "stdout",
     "output_type": "stream",
     "text": [
      "------------------------------------------------------------\n",
      "----------------------- VERSION INFO -----------------------\n",
      "Torch version: 2.3.1.post300 | Torch Built with CUDA? True\n",
      "# Device(s) available: 1, Name(s): NVIDIA GeForce RTX 3090\n",
      "Torch device: cuda\n",
      "------------------------------------------------------------\n"
     ]
    }
   ],
   "source": [
    "NR, NT = 1272, 60\n",
    "NX, NY = 64, 64\n",
    "milli  = 1e-3\n",
    "mega   = 1e6\n",
    "Darcy  = 9.869233e-13\n",
    "psi2pa = 6894.75729\n",
    "co2rho = 686.5400\n",
    "sec2yr = 1/(3600*24*365.25)\n",
    "device = check_torch()"
   ]
  },
  {
   "cell_type": "code",
   "execution_count": 3,
   "metadata": {},
   "outputs": [
    {
     "name": "stdout",
     "output_type": "stream",
     "text": [
      "torch.Size([2, 4, 8, 8]) torch.Size([2, 30, 5])\n",
      "--------------------\n",
      "torch.Size([2, 30, 2, 8, 8]) torch.Size([2, 30, 1, 8, 8])\n"
     ]
    }
   ],
   "source": [
    "# x_inputs = Xt[:4].to(device)\n",
    "# c_inputs = ct[:4].to(device)\n",
    "x_inputs = torch.rand(2, 4, 8, 8).to(device)\n",
    "c_inputs = torch.rand(2, 30, 5).to(device)\n",
    "print(x_inputs.shape, c_inputs.shape)\n",
    "print('-'*20)\n",
    "\n",
    "model = NeuralPix2Vid(device=device).to(device)\n",
    "out1, out2 = model(x_inputs, c_inputs)\n",
    "print(out1.shape, out2.shape)"
   ]
  },
  {
   "cell_type": "code",
   "execution_count": null,
   "metadata": {},
   "outputs": [],
   "source": [
    "fig,"
   ]
  },
  {
   "cell_type": "code",
   "execution_count": null,
   "metadata": {},
   "outputs": [],
   "source": []
  },
  {
   "cell_type": "code",
   "execution_count": null,
   "metadata": {},
   "outputs": [],
   "source": [
    "timesteps = np.load('timesteps.npy')\n",
    "deltaTime = np.concatenate([np.ones((30)), np.ones((30))*50])\n",
    "print('timesteps: {} | deltaT: {}'.format(len(timesteps), np.unique(deltaTime)))\n",
    "(Xt, ct, y1t, y2t, all_volumes, idx), (trainloader, validloader) = pix2vid_dataset()"
   ]
  },
  {
   "cell_type": "code",
   "execution_count": null,
   "metadata": {},
   "outputs": [],
   "source": []
  },
  {
   "cell_type": "code",
   "execution_count": null,
   "metadata": {},
   "outputs": [],
   "source": []
  },
  {
   "cell_type": "code",
   "execution_count": null,
   "metadata": {},
   "outputs": [],
   "source": []
  },
  {
   "cell_type": "code",
   "execution_count": null,
   "metadata": {},
   "outputs": [],
   "source": []
  },
  {
   "cell_type": "code",
   "execution_count": null,
   "metadata": {},
   "outputs": [],
   "source": [
    "model = NeuralPix2Vid().to(device)\n",
    "print('# parameters: {:,}'.format(sum(p.numel() for p in model.parameters() if p.requires_grad)))\n",
    "\n",
    "criterion1 = nn.MSELoss().to(device)\n",
    "criterion2 = nn.MSELoss().to(device)\n",
    "optimizer = optim.Adam(model.parameters(), lr=1e-3)"
   ]
  },
  {
   "cell_type": "code",
   "execution_count": null,
   "metadata": {},
   "outputs": [],
   "source": [
    "epochs, monitor = 10, 1\n",
    "train_loss, valid_loss = [], []\n",
    "for epoch in range(epochs):\n",
    "    epoch_train_loss = []\n",
    "    model.train()\n",
    "    for i, (x,y) in enumerate(trainloader):\n",
    "        optimizer.zero_grad()\n",
    "        x, y = x.to(device), y.to(device)\n",
    "        u = model(x)\n",
    "        loss = criterion(y, u)\n",
    "        loss.backward()\n",
    "        optimizer.step()\n",
    "        epoch_train_loss.append(loss.item())\n",
    "    train_loss.append(np.mean(epoch_train_loss))\n",
    "    # validation\n",
    "    model.eval()\n",
    "    epoch_valid_loss = []\n",
    "    with torch.no_grad():\n",
    "        for i, (x,y) in enumerate(validloader):\n",
    "            x, y = x.to(device), y.to(device)\n",
    "            u = model(x)\n",
    "            loss = criterion(y, u)\n",
    "            epoch_valid_loss.append(loss.item())\n",
    "    valid_loss.append(np.mean(epoch_valid_loss))\n",
    "    # progress\n",
    "    if (epoch+1) % monitor == 0:\n",
    "        print('Epoch: [{}/{}] | Train Loss: {:.5f} | Valid Loss: {:.5f}'.format(epoch+1, epochs, train_loss[-1], valid_loss[-1]))\n",
    "\n",
    "torch.save(model.state_dict(), 'model.pth')\n",
    "losses = pd.DataFrame({'train': train_loss, 'valid': valid_loss})\n",
    "losses.to_csv('losses.csv', index=False)"
   ]
  },
  {
   "cell_type": "code",
   "execution_count": null,
   "metadata": {},
   "outputs": [],
   "source": [
    "y1_pred = model(X_train[:20].to(device)).detach().cpu().numpy()\n",
    "print(y1_pred.shape)"
   ]
  },
  {
   "cell_type": "code",
   "execution_count": null,
   "metadata": {},
   "outputs": [],
   "source": [
    "sample = 10\n",
    "fig, axs = plt.subplots(2, 10, figsize=(20,4), sharex=True, sharey=True)\n",
    "for i in range(2):\n",
    "    for j in range(10):\n",
    "        ax = axs[i,j]\n",
    "        k = j*3\n",
    "        ax.imshow(y1_train[sample, i, :, :, k], cmap='turbo')\n",
    "plt.tight_layout()\n",
    "plt.show()"
   ]
  },
  {
   "cell_type": "code",
   "execution_count": null,
   "metadata": {},
   "outputs": [],
   "source": []
  }
 ],
 "metadata": {
  "kernelspec": {
   "display_name": "flow",
   "language": "python",
   "name": "python3"
  },
  "language_info": {
   "codemirror_mode": {
    "name": "ipython",
    "version": 3
   },
   "file_extension": ".py",
   "mimetype": "text/x-python",
   "name": "python",
   "nbconvert_exporter": "python",
   "pygments_lexer": "ipython3",
   "version": "3.11.9"
  }
 },
 "nbformat": 4,
 "nbformat_minor": 2
}

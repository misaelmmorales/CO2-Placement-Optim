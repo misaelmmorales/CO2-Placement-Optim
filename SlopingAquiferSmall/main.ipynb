{
 "cells": [
  {
   "cell_type": "code",
   "execution_count": 1,
   "metadata": {},
   "outputs": [],
   "source": [
    "import numpy as np\n",
    "import pandas as pd\n",
    "from time import time\n",
    "from tqdm import tqdm\n",
    "import matplotlib.pyplot as plt\n",
    "\n",
    "from sklearn.metrics import r2_score\n",
    "from skimage.metrics import mean_squared_error, structural_similarity, peak_signal_noise_ratio\n",
    "\n",
    "import torch\n",
    "import torch.nn as nn\n",
    "import torch.optim as optim\n",
    "\n",
    "from utils import check_torch, pix2vid_dataset, DualCustomLoss, DualLpLoss, NeuralPix2Vid"
   ]
  },
  {
   "cell_type": "code",
   "execution_count": 3,
   "metadata": {},
   "outputs": [
    {
     "name": "stdout",
     "output_type": "stream",
     "text": [
      "------------------------------------------------------------\n",
      "----------------------- VERSION INFO -----------------------\n",
      "Torch version: 2.3.1.post300 | Torch Built with CUDA? True\n",
      "# Device(s) available: 1, Name(s): NVIDIA GeForce RTX 3090\n",
      "Torch device: cuda\n",
      "------------------------------------------------------------\n",
      "timesteps: 60 | deltaT: [ 1. 50.]\n",
      "Train - X:  torch.Size([1000, 4, 64, 64])     | c:  torch.Size([1000, 30, 5])\n",
      "        y1: torch.Size([1000, 30, 2, 64, 64]) | y2: torch.Size([1000, 30, 1, 64, 64])\n",
      "--------------------\n",
      "Valid - X:  torch.Size([136, 4, 64, 64])     | c:  torch.Size([136, 30, 5])\n",
      "        y1: torch.Size([136, 30, 2, 64, 64]) | y2: torch.Size([136, 30, 1, 64, 64])\n",
      "--------------------\n",
      "Test  - X:  torch.Size([136, 4, 64, 64])     | c:  torch.Size([136, 30, 5])\n",
      "        y1: torch.Size([136, 30, 2, 64, 64]) | y2: torch.Size([136, 30, 1, 64, 64])\n"
     ]
    }
   ],
   "source": [
    "NR, NT = 1272, 60\n",
    "NX, NY = 64, 64\n",
    "milli  = 1e-3\n",
    "mega   = 1e6\n",
    "Darcy  = 9.869233e-13\n",
    "psi2pa = 6894.75729\n",
    "co2rho = 686.5400\n",
    "sec2yr = 1/(3600*24*365.25)\n",
    "device = check_torch()\n",
    "\n",
    "device = torch.device('cpu')\n",
    "\n",
    "timesteps = np.load('timesteps.npy')\n",
    "deltaTime = np.concatenate([np.ones((30)), np.ones((30))*50])\n",
    "print('timesteps: {} | deltaT: {}'.format(len(timesteps), np.unique(deltaTime)))\n",
    "(Xt, ct, y1t, y2t, all_volumes, idx), (trainloader, validloader) = pix2vid_dataset(send_to_device=True, device=device)"
   ]
  },
  {
   "cell_type": "code",
   "execution_count": 4,
   "metadata": {},
   "outputs": [
    {
     "name": "stdout",
     "output_type": "stream",
     "text": [
      "# parameters: 4,261,815 | device: cpu\n"
     ]
    }
   ],
   "source": [
    "model = NeuralPix2Vid(device=device).to(device)\n",
    "nparams = sum(p.numel() for p in model.parameters() if p.requires_grad)\n",
    "print('# parameters: {:,} | device: {}'.format(nparams, model.device))\n",
    "criterion = DualLpLoss().to(device)\n",
    "optimizer = optim.Adam(model.parameters(), lr=1e-3)"
   ]
  },
  {
   "cell_type": "code",
   "execution_count": null,
   "metadata": {},
   "outputs": [],
   "source": [
    "start = time()\n",
    "epochs, monitor = 10, 1\n",
    "train_loss, valid_loss = [], []\n",
    "for epoch in range(epochs):\n",
    "    epoch_train_loss = []\n",
    "    model.train()\n",
    "    for i, (x,c,y1,y2) in enumerate(trainloader):\n",
    "        optimizer.zero_grad()\n",
    "        u1, u2 = model(x,c)\n",
    "        loss = criterion(y1, y2, u1, u2)\n",
    "        loss.backward()\n",
    "        optimizer.step()\n",
    "        epoch_train_loss.append(loss.item())\n",
    "    train_loss.append(np.mean(epoch_train_loss))\n",
    "    # validation\n",
    "    model.eval()\n",
    "    epoch_valid_loss = []\n",
    "    with torch.no_grad():\n",
    "        for i, (x,c,y1,y2) in enumerate(validloader):\n",
    "            u1, u2 = model(x,c)\n",
    "            loss = criterion(y1, y2, u1, u2)\n",
    "            epoch_valid_loss.append(loss.item())\n",
    "    valid_loss.append(np.mean(epoch_valid_loss))\n",
    "    # progress\n",
    "    if (epoch+1) % monitor == 0:\n",
    "        print('Epoch: [{}/{}] | Train Loss: {:.5f} | Valid Loss: {:.5f}'.format(epoch+1, epochs, train_loss[-1], valid_loss[-1]))\n",
    "\n",
    "print('Total training time: {:.3f} minuts'.format((time()-start)/60))\n",
    "torch.save(model.state_dict(), 'model.pth')\n",
    "losses = pd.DataFrame({'train': train_loss, 'valid': valid_loss})\n",
    "losses.to_csv('losses.csv', index=False)"
   ]
  },
  {
   "cell_type": "code",
   "execution_count": null,
   "metadata": {},
   "outputs": [],
   "source": []
  }
 ],
 "metadata": {
  "kernelspec": {
   "display_name": "flow",
   "language": "python",
   "name": "python3"
  },
  "language_info": {
   "codemirror_mode": {
    "name": "ipython",
    "version": 3
   },
   "file_extension": ".py",
   "mimetype": "text/x-python",
   "name": "python",
   "nbconvert_exporter": "python",
   "pygments_lexer": "ipython3",
   "version": "3.11.9"
  }
 },
 "nbformat": 4,
 "nbformat_minor": 2
}

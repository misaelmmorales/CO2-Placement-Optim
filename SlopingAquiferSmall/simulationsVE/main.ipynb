{
 "cells": [
  {
   "cell_type": "code",
   "execution_count": null,
   "metadata": {},
   "outputs": [],
   "source": [
    "import os\n",
    "os.environ['TF_CPP_MIN_LOG_LEVEL'] = '3'\n",
    "from time import time\n",
    "from tqdm import tqdm\n",
    "\n",
    "import numpy as np\n",
    "import pandas as pd\n",
    "import scipy.io as sio\n",
    "import matplotlib.pyplot as plt\n",
    "\n",
    "from sklearn.metrics import r2_score, mean_absolute_percentage_error\n",
    "from skimage.metrics import mean_squared_error, structural_similarity, peak_signal_noise_ratio\n",
    "\n",
    "import keras\n",
    "import tensorflow as tf\n",
    "\n",
    "from utils import load_data\n",
    "from pix2vid2 import make_model\n",
    "\n",
    "NUM_REALIZATIONS = 1000\n",
    "NX,  NY,  NZ = 64, 64, 1\n",
    "NTT, NT1, NT2 = 40, 20, 5\n",
    "HIDDEN = [16, 64, 256]\n",
    "\n",
    "sec2year   = 365.25 * 24 * 60 * 60\n",
    "Darcy      = 9.869233e-13\n",
    "psi2pascal = 6894.76\n",
    "co2_rho    = 686.5266\n",
    "milli      = 1e-3\n",
    "mega       = 1e6\n",
    "\n",
    "def check_tf_gpu():\n",
    "    sys_info = tf.sysconfig.get_build_info()\n",
    "    kversion = keras.__version__\n",
    "    version, cuda, cudnn = tf.__version__, sys_info[\"cuda_version\"], sys_info[\"cudnn_version\"]\n",
    "    count = len(tf.config.experimental.list_physical_devices())\n",
    "    name  = [device.name for device in tf.config.experimental.list_physical_devices('GPU')]\n",
    "    print('-'*62)\n",
    "    print('------------------------ VERSION INFO ------------------------')\n",
    "    print('TF version: {} | Keras: {} | # Device(s) available: {}'.format(version, kversion, count))\n",
    "    print('TF Built with CUDA? {} | CUDA: {} | cuDNN: {}'.format(tf.test.is_built_with_cuda(), cuda, cudnn))\n",
    "    print(tf.config.list_physical_devices()[-1])\n",
    "    print('-'*62+'\\n')\n",
    "    return None\n",
    "\n",
    "check_tf_gpu()"
   ]
  },
  {
   "cell_type": "code",
   "execution_count": null,
   "metadata": {},
   "outputs": [],
   "source": [
    "gt = sio.loadmat('grids/Gt.mat', simplify_cells=True)['Gt']\n",
    "gtops = gt['cells']['z'].reshape(NX,NY,order='F')\n",
    "gvols = gt['parent']['cells']['volumes'].reshape(NX,NY,order='F')\n",
    "ghght = gt['cells']['H'].reshape(NX,NY,order='F')\n",
    "\n",
    "deltatime = sio.loadmat('data/time_arr.mat', simplify_cells=True)['time_arr']\n",
    "timesteps = np.cumsum(deltatime)\n",
    "timesteps_inj = timesteps[:20]\n",
    "timesteps_mon = timesteps[[19, 24, 29, 34, 39]]\n",
    "\n",
    "print('timesteps: {} | deltatime: {}'.format(len(timesteps), np.unique(deltatime)))\n",
    "print('injection: {}'.format(timesteps_inj))\n",
    "print('monitoring: {}'.format(timesteps_mon))"
   ]
  },
  {
   "cell_type": "code",
   "execution_count": null,
   "metadata": {},
   "outputs": [],
   "source": [
    "datas, norms = load_data()\n",
    "X_data, c_data, y1_data, y2_data = datas.values()"
   ]
  },
  {
   "cell_type": "code",
   "execution_count": null,
   "metadata": {},
   "outputs": [],
   "source": [
    "train_idx = np.load('models/training_idx.npy')\n",
    "test_idx  = np.setdiff1d(range(len(X_data)), train_idx)\n",
    "\n",
    "X_train  = tf.cast(X_data[train_idx], tf.float32)\n",
    "c_train  = tf.cast(c_data[train_idx], tf.float32)\n",
    "y1_train = tf.cast(y1_data[train_idx], tf.float32)\n",
    "y2_train = tf.cast(y2_data[train_idx], tf.float32)\n",
    "\n",
    "X_test  = tf.cast(X_data[test_idx], tf.float32)\n",
    "c_test  = tf.cast(c_data[test_idx], tf.float32)\n",
    "y1_test = tf.cast(y1_data[test_idx], tf.float32)\n",
    "y2_test = tf.cast(y2_data[test_idx], tf.float32)"
   ]
  },
  {
   "cell_type": "code",
   "execution_count": null,
   "metadata": {},
   "outputs": [],
   "source": [
    "model = make_model(hidden=HIDDEN)\n",
    "model.load_weights('models/pix2vid-v2.weights.h5')"
   ]
  },
  {
   "cell_type": "code",
   "execution_count": null,
   "metadata": {},
   "outputs": [],
   "source": [
    "losses = pd.read_csv('models/pix2vid-v2.csv')\n",
    "plt.figure(figsize=(12,5))\n",
    "plt.plot(losses.index, losses['loss'], label='Train')\n",
    "plt.plot(losses.index, losses['val_loss'], label='Valid')\n",
    "plt.xlabel('Epochs'); plt.ylabel('Loss')\n",
    "plt.legend(); plt.grid(True, which='both')\n",
    "plt.tight_layout(); plt.show()"
   ]
  },
  {
   "cell_type": "code",
   "execution_count": null,
   "metadata": {},
   "outputs": [],
   "source": [
    "y1_train_pred, y2_train_pred = model.predict([X_train[:20], c_train[:20]], verbose=False)\n",
    "y1_test_pred, y2_test_pred = model.predict([X_test[:20], c_test[:20]], verbose=False)\n",
    "\n",
    "y1_train_pred = np.array(y1_train_pred)\n",
    "y2_train_pred = np.array(y2_train_pred)\n",
    "y1_test_pred = np.array(y1_test_pred)\n",
    "y2_test_pred = np.array(y2_test_pred)\n",
    "\n",
    "X_train = np.array(X_train)\n",
    "c_train = np.array(c_train)\n",
    "y1_train = np.array(y1_train)\n",
    "y2_train = np.array(y2_train)\n",
    "\n",
    "X_test = np.array(X_test)\n",
    "c_test = np.array(c_test)\n",
    "y1_test = np.array(y1_test)\n",
    "y2_test = np.array(y2_test)\n",
    "\n",
    "print('Train - y1: {} | y2: {}'.format(y1_train_pred.shape, y2_train_pred.shape))\n",
    "print('Test - y1: {} | y2: {}'.format(y1_test_pred.shape, y2_test_pred.shape))"
   ]
  },
  {
   "cell_type": "code",
   "execution_count": null,
   "metadata": {},
   "outputs": [],
   "source": [
    "sample = 12\n",
    "fig, axs = plt.subplots(3, 10, figsize=(15,5), sharex=True, sharey=True)\n",
    "for j in range(10):\n",
    "    ax1, ax2, ax3 = axs[0,j], axs[1,j], axs[2,j]\n",
    "    k = j*2\n",
    "    \n",
    "    t = y1_train[sample, k, ..., -1]\n",
    "    p = y1_train_pred[sample, k, ..., -1]\n",
    "    e = np.linalg.norm(t.reshape(1,64,64)-p.reshape(1,64,64), axis=0)\n",
    "\n",
    "    im1 = ax1.imshow(t, cmap='jet')\n",
    "    im2 = ax2.imshow(p, cmap='jet')\n",
    "    im3 = ax3.imshow(e, cmap='binary')\n",
    "    [plt.colorbar(ii, pad=0.04, fraction=0.046) for ii in [im1,im2,im3]]\n",
    "    ax1.set_title('t={}'.format(timesteps[k]))\n",
    "    \n",
    "plt.tight_layout()\n",
    "plt.show()"
   ]
  },
  {
   "cell_type": "code",
   "execution_count": null,
   "metadata": {},
   "outputs": [],
   "source": [
    "sample = 12\n",
    "fig, axs = plt.subplots(3, 5, figsize=(15,5), sharex=True, sharey=True)\n",
    "for j in range(5):\n",
    "    ax1, ax2, ax3 = axs[0,j], axs[1,j], axs[2,j]\n",
    "\n",
    "    t = y2_train[sample, j, ..., -1]\n",
    "    p = y2_train_pred[sample, j, ..., -1]\n",
    "    e = np.linalg.norm(t.reshape(1,64,64)-p.reshape(1,64,64), axis=0)\n",
    "\n",
    "    im1 = ax1.imshow(t, cmap='jet')\n",
    "    im2 = ax2.imshow(p, cmap='jet')\n",
    "    im3 = ax3.imshow(e, cmap='binary')\n",
    "    [plt.colorbar(ii, pad=0.04, fraction=0.046) for ii in [im1,im2,im3]]\n",
    "    ax1.set_title('t={}'.format(timesteps_mon[j]))\n",
    "\n",
    "plt.tight_layout()\n",
    "plt.show()"
   ]
  },
  {
   "cell_type": "code",
   "execution_count": null,
   "metadata": {},
   "outputs": [],
   "source": []
  }
 ],
 "metadata": {
  "kernelspec": {
   "display_name": "flow",
   "language": "python",
   "name": "python3"
  },
  "language_info": {
   "codemirror_mode": {
    "name": "ipython",
    "version": 3
   },
   "file_extension": ".py",
   "mimetype": "text/x-python",
   "name": "python",
   "nbconvert_exporter": "python",
   "pygments_lexer": "ipython3",
   "version": "3.9.19"
  }
 },
 "nbformat": 4,
 "nbformat_minor": 2
}

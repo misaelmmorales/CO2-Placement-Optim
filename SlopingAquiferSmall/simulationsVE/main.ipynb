{
 "cells": [
  {
   "cell_type": "code",
   "execution_count": 20,
   "metadata": {},
   "outputs": [
    {
     "name": "stdout",
     "output_type": "stream",
     "text": [
      "--------------------------------------------------------------\n",
      "------------------------ VERSION INFO ------------------------\n",
      "TF version: 2.15.0 | Keras: 3.5.0 | # Device(s) available: 2\n",
      "TF Built with CUDA? True | CUDA: 12.2 | cuDNN: 8\n",
      "PhysicalDevice(name='/physical_device:GPU:0', device_type='GPU')\n",
      "--------------------------------------------------------------\n",
      "\n"
     ]
    }
   ],
   "source": [
    "import os\n",
    "os.environ['TF_CPP_MIN_LOG_LEVEL'] = '3'\n",
    "from time import time\n",
    "from tqdm import tqdm\n",
    "\n",
    "import numpy as np\n",
    "import pandas as pd\n",
    "import scipy.io as sio\n",
    "import matplotlib.pyplot as plt\n",
    "\n",
    "from sklearn.metrics import r2_score, mean_absolute_percentage_error\n",
    "from skimage.metrics import mean_squared_error, structural_similarity, peak_signal_noise_ratio\n",
    "\n",
    "import keras\n",
    "import tensorflow as tf\n",
    "\n",
    "NUM_REALIZATIONS = 1000\n",
    "NX,  NY,  NZ = 64, 64, 1\n",
    "NTT, NT1, NT2 = 40, 20, 5\n",
    "HIDDEN = [16, 64, 256]\n",
    "\n",
    "sec2year   = 365.25 * 24 * 60 * 60\n",
    "Darcy      = 9.869233e-13\n",
    "psi2pascal = 6894.76\n",
    "co2_rho    = 686.5266\n",
    "milli      = 1e-3\n",
    "mega       = 1e6\n",
    "\n",
    "def check_tf_gpu():\n",
    "    sys_info = tf.sysconfig.get_build_info()\n",
    "    kversion = keras.__version__\n",
    "    version, cuda, cudnn = tf.__version__, sys_info[\"cuda_version\"], sys_info[\"cudnn_version\"]\n",
    "    count = len(tf.config.experimental.list_physical_devices())\n",
    "    name  = [device.name for device in tf.config.experimental.list_physical_devices('GPU')]\n",
    "    print('-'*62)\n",
    "    print('------------------------ VERSION INFO ------------------------')\n",
    "    print('TF version: {} | Keras: {} | # Device(s) available: {}'.format(version, kversion, count))\n",
    "    print('TF Built with CUDA? {} | CUDA: {} | cuDNN: {}'.format(tf.test.is_built_with_cuda(), cuda, cudnn))\n",
    "    print(tf.config.list_physical_devices()[-1])\n",
    "    print('-'*62+'\\n')\n",
    "    return None\n",
    "\n",
    "check_tf_gpu()"
   ]
  },
  {
   "cell_type": "code",
   "execution_count": 94,
   "metadata": {},
   "outputs": [
    {
     "name": "stdout",
     "output_type": "stream",
     "text": [
      "timesteps: 40 | deltatime: [  0.5 100. ]\n",
      "injection: [ 0.5  1.   1.5  2.   2.5  3.   3.5  4.   4.5  5.   5.5  6.   6.5  7.\n",
      "  7.5  8.   8.5  9.   9.5 10. ]\n",
      "monitoring: [ 110.  510. 1010. 1510. 2010.]\n"
     ]
    }
   ],
   "source": [
    "gt = sio.loadmat('grids/Gt.mat', simplify_cells=True)['Gt']\n",
    "gtops = gt['cells']['z'].reshape(NX,NY,order='F')\n",
    "gvols = gt['parent']['cells']['volumes'].reshape(NX,NY,order='F')\n",
    "ghght = gt['cells']['H'].reshape(NX,NY,order='F')\n",
    "\n",
    "deltatime = sio.loadmat('data/time_arr.mat', simplify_cells=True)['time_arr']\n",
    "timesteps = np.cumsum(deltatime)\n",
    "timesteps_inj = timesteps[:20]\n",
    "timesteps_mon = timesteps[[20, 24, 29, 34, 39]]\n",
    "\n",
    "print('timesteps: {} | deltatime: {}'.format(len(timesteps), np.unique(deltatime)))\n",
    "print('injection: {}'.format(timesteps_inj))\n",
    "print('monitoring: {}'.format(timesteps_mon))"
   ]
  },
  {
   "cell_type": "code",
   "execution_count": 118,
   "metadata": {},
   "outputs": [
    {
     "name": "stdout",
     "output_type": "stream",
     "text": [
      "X: (1000, 64, 64, 5) | c: (1000, 20, 5)\n",
      "y1: (1000, 20, 64, 64, 2) | y2: (1000, 5, 64, 64, 1)\n",
      "porosity     - min: -0.62 | max: 2.36\n",
      "logperm      - min: -2.20 | max: 2.49\n",
      "wells        - min: 0.00 | max: 1.00\n",
      "tops         - min: 0.00 | max: 1.00\n",
      "volumes      - min: 0.00 | max: 1.00\n",
      "controls     - min: 0.00 | max: 0.97\n",
      "pressure_1   - min: 0.00 | max: 15.39\n",
      "saturation_1 - min: 0.00 | max: 1.00\n",
      "saturation_2 - min: 0.00 | max: 1.00\n"
     ]
    }
   ],
   "source": [
    "X_data = np.load('data/X_data.npy')   # (poro,perm,well,tops,heights)\n",
    "c_data = np.load('data/c_data.npy')   # (controls)\n",
    "y1_data = np.load('data/y1_data.npy') # (pressure,saturation)_inj\n",
    "y2_data = np.load('data/y2_data.npy') # (saturation)_monitor\n",
    "print('X: {} | c: {}'.format(X_data.shape, c_data.shape))\n",
    "print('y1: {} | y2: {}'.format(y1_data.shape, y2_data.shape))\n",
    "\n",
    "pmu, psd = X_data[...,0].mean(), X_data[...,0].std() # porosity\n",
    "kmu, ksd = X_data[...,1].mean(), X_data[...,1].std() # permeability\n",
    "wmi, wma = X_data[...,2].min(),  X_data[...,2].max() # wells\n",
    "tmi, tma = X_data[...,3].min(),  X_data[...,3].max() # tops\n",
    "vmi, vma = X_data[...,4].min(),  X_data[...,4].max() # heights\n",
    "cmi, cma = c_data.min(),         c_data.max()        # controls\n",
    "\n",
    "X_data[...,0] = (X_data[...,0] - pmu) / (3.33*psd)\n",
    "X_data[...,1] = (X_data[...,1] - kmu) / (3.33*ksd)\n",
    "X_data[...,2] = (X_data[...,2] - wmi) / (wma - wmi)\n",
    "X_data[...,3] = (X_data[...,3] - tmi) / (tma - tmi)\n",
    "X_data[...,4] = (X_data[...,4] - vmi) / (vma - vmi)\n",
    "c_data = c_data / 5.0\n",
    "\n",
    "y1_data[...,0]  = y1_data[...,0]  / 5e5\n",
    "y1_data[...,-1] = y1_data[...,-1] / 1\n",
    "y2_data[...,-1] = y2_data[...,-1] / 1\n",
    "\n",
    "print('porosity     - min: {:.2f} | max: {:.2f}'.format(X_data[...,0].min(), X_data[...,0].max()))\n",
    "print('logperm      - min: {:.2f} | max: {:.2f}'.format(X_data[...,1].min(), X_data[...,1].max()))\n",
    "print('wells        - min: {:.2f} | max: {:.2f}'.format(X_data[...,2].min(), X_data[...,2].max()))\n",
    "print('tops         - min: {:.2f} | max: {:.2f}'.format(X_data[...,3].min(), X_data[...,3].max()))\n",
    "print('volumes      - min: {:.2f} | max: {:.2f}'.format(X_data[...,4].min(), X_data[...,4].max()))\n",
    "print('controls     - min: {:.2f} | max: {:.2f}'.format(c_data.min(),        c_data.max()))\n",
    "print('pressure_1   - min: {:.2f} | max: {:.2f}'.format(y1_data[...,0].min(), y1_data[...,0].max()))\n",
    "print('saturation_1 - min: {:.2f} | max: {:.2f}'.format(y1_data[...,-1].min(), y2_data[...,-1].max()))\n",
    "print('saturation_2 - min: {:.2f} | max: {:.2f}'.format(y2_data[...,-1].min(), y2_data[...,-1].max()))"
   ]
  },
  {
   "cell_type": "code",
   "execution_count": null,
   "metadata": {},
   "outputs": [],
   "source": []
  },
  {
   "cell_type": "code",
   "execution_count": null,
   "metadata": {},
   "outputs": [],
   "source": []
  }
 ],
 "metadata": {
  "kernelspec": {
   "display_name": "flow",
   "language": "python",
   "name": "python3"
  },
  "language_info": {
   "codemirror_mode": {
    "name": "ipython",
    "version": 3
   },
   "file_extension": ".py",
   "mimetype": "text/x-python",
   "name": "python",
   "nbconvert_exporter": "python",
   "pygments_lexer": "ipython3",
   "version": "3.9.19"
  }
 },
 "nbformat": 4,
 "nbformat_minor": 2
}

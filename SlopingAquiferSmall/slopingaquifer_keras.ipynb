{
 "cells": [
  {
   "cell_type": "code",
   "execution_count": 2,
   "metadata": {},
   "outputs": [],
   "source": [
    "import os\n",
    "from time import time\n",
    "from tqdm import tqdm\n",
    "\n",
    "import numpy as np\n",
    "import pandas as pd\n",
    "import scipy.io as sio\n",
    "import matplotlib.pyplot as plt\n",
    "\n",
    "from sklearn.metrics import r2_score, mean_absolute_percentage_error\n",
    "from skimage.metrics import mean_squared_error, structural_similarity, peak_signal_noise_ratio\n",
    "\n",
    "import keras\n",
    "import tensorflow as tf\n",
    "\n",
    "NUM_REALIZATIONS = 929\n",
    "NX,  NY,  NZ = 64, 64, 1\n",
    "NTT, NT1, NT2 = 40, 20, 5\n",
    "HIDDEN = [16, 64, 256]\n",
    "\n",
    "sec2year   = 365.25 * 24 * 60 * 60\n",
    "Darcy      = 9.869233e-13\n",
    "psi2pascal = 6894.76\n",
    "co2_rho    = 686.5266\n",
    "milli      = 1e-3\n",
    "mega       = 1e6"
   ]
  },
  {
   "cell_type": "code",
   "execution_count": 4,
   "metadata": {},
   "outputs": [
    {
     "name": "stdout",
     "output_type": "stream",
     "text": [
      "--------------------------------------------------------------\n",
      "------------------------ VERSION INFO ------------------------\n",
      "TF version: 2.15.0 | Keras: 3.5.0 | # Device(s) available: 2\n",
      "TF Built with CUDA? True | CUDA: 12.2 | cuDNN: 8\n",
      "PhysicalDevice(name='/physical_device:GPU:0', device_type='GPU')\n",
      "--------------------------------------------------------------\n",
      "\n"
     ]
    }
   ],
   "source": [
    "def check_tf_gpu():\n",
    "    sys_info = tf.sysconfig.get_build_info()\n",
    "    kversion = keras.__version__\n",
    "    version, cuda, cudnn = tf.__version__, sys_info[\"cuda_version\"], sys_info[\"cudnn_version\"]\n",
    "    count = len(tf.config.experimental.list_physical_devices())\n",
    "    name  = [device.name for device in tf.config.experimental.list_physical_devices('GPU')]\n",
    "    print('-'*62)\n",
    "    print('------------------------ VERSION INFO ------------------------')\n",
    "    print('TF version: {} | Keras: {} | # Device(s) available: {}'.format(version, kversion, count))\n",
    "    print('TF Built with CUDA? {} | CUDA: {} | cuDNN: {}'.format(tf.test.is_built_with_cuda(), cuda, cudnn))\n",
    "    print(tf.config.list_physical_devices()[-1])\n",
    "    print('-'*62+'\\n')\n",
    "    return None\n",
    "\n",
    "check_tf_gpu()"
   ]
  },
  {
   "cell_type": "code",
   "execution_count": null,
   "metadata": {},
   "outputs": [],
   "source": [
    "deltatime = sio.loadmat('simulations/data/time_arr.mat', simplify_cells=True)['time_arr']\n",
    "timesteps = np.cumsum(deltatime)\n",
    "timesteps_inj = timesteps[:20]\n",
    "timesteps_mon = timesteps[[21, 24, 29, 34, 39]]\n",
    "\n",
    "print('timesteps: {} | deltatime: {}'.format(len(timesteps), np.unique(deltatime)))\n",
    "print('injection: {}'.format(timesteps_inj))\n",
    "print('monitoring: {}'.format(timesteps_mon))"
   ]
  },
  {
   "cell_type": "code",
   "execution_count": null,
   "metadata": {},
   "outputs": [],
   "source": [
    "# Load data\n",
    "X_data = np.load('simulations/data/X_data.npy')\n",
    "c_data = np.load('simulations/data/c_data.npy')\n",
    "y1_data = np.load('simulations/data/y1_data.npy')\n",
    "y2_data = np.load('simulations/data/y2_data.npy')[:,[1, 4, 9, 14, 19]]\n",
    "print('X: {} | c: {}'.format(X_data.shape, c_data.shape))\n",
    "print('y1: {} | y2: {}'.format(y1_data.shape, y2_data.shape))\n",
    "\n",
    "# Normalize data\n",
    "pmu, psd = X_data[...,0].mean(), X_data[...,0].std() # porosity\n",
    "kmu, ksd = X_data[...,1].mean(), X_data[...,1].std() # permeability\n",
    "wmi, wma = X_data[...,2].min(),  X_data[...,2].max() # wells\n",
    "tmi, tma = X_data[...,3].min(),  X_data[...,3].max() # tops\n",
    "vmi, vma = X_data[...,4].min(),  X_data[...,4].max() # volumes\n",
    "cmi, cma = c_data.min(),         c_data.max()        # controls\n",
    "\n",
    "X_data[...,0] = (X_data[...,0] - pmu) / (3.33*psd)\n",
    "X_data[...,1] = (X_data[...,1] - kmu) / (3.33*ksd)\n",
    "X_data[...,2] = (X_data[...,2] - wmi) / (wma - wmi)\n",
    "X_data[...,3] = (X_data[...,3] - tmi) / (tma - tmi)\n",
    "X_data[...,4] = (X_data[...,4] - vmi) / (vma - vmi)\n",
    "c_data = c_data / 2.0\n",
    "\n",
    "y1_data[...,0]  = y1_data[...,0]  / 50e3\n",
    "y1_data[...,-1] = y1_data[...,-1] / 0.73\n",
    "y2_data[...,-1] = y2_data[...,-1] / 0.73\n",
    "\n",
    "print('porosity     - min: {:.2f} | max: {:.2f}'.format(X_data[...,0].min(), X_data[...,0].max()))\n",
    "print('logperm      - min: {:.2f} | max: {:.2f}'.format(X_data[...,1].min(), X_data[...,1].max()))\n",
    "print('wells        - min: {:.2f} | max: {:.2f}'.format(X_data[...,2].min(), X_data[...,2].max()))\n",
    "print('tops         - min: {:.2f} | max: {:.2f}'.format(X_data[...,3].min(), X_data[...,3].max()))\n",
    "print('volumes      - min: {:.2f} | max: {:.2f}'.format(X_data[...,4].min(), X_data[...,4].max()))\n",
    "print('controls     - min: {:.2f} | max: {:.2f}'.format(c_data.min(),        c_data.max()))\n",
    "print('pressure_1   - min: {:.2f} | max: {:.2f}'.format(y1_data[...,0].min(), y1_data[...,0].max()))\n",
    "print('saturation_1 - min: {:.2f} | max: {:.2f}'.format(y1_data[...,-1].min(), y2_data[...,-1].max()))\n",
    "print('saturation_2 - min: {:.2f} | max: {:.2f}'.format(y2_data[...,-1].min(), y2_data[...,-1].max()))"
   ]
  },
  {
   "cell_type": "code",
   "execution_count": null,
   "metadata": {},
   "outputs": [],
   "source": [
    "train_idx = np.load('models/training_idx.npy')\n",
    "test_idx  = np.setdiff1d(range(len(X_data)), train_idx)\n",
    "\n",
    "X_train = X_data[train_idx].astype(np.float32)\n",
    "c_train = c_data[train_idx].astype(np.float32)\n",
    "y1_train = y1_data[train_idx].astype(np.float32)\n",
    "y2_train = y2_data[train_idx].astype(np.float32)\n",
    "X_test = X_data[test_idx].astype(np.float32)\n",
    "c_test = c_data[test_idx].astype(np.float32)\n",
    "y1_test = y1_data[test_idx].astype(np.float32)\n",
    "y2_test = y2_data[test_idx].astype(np.float32)\n",
    "\n",
    "print('X_train:  {}     | c_train: {}'.format(X_train.shape, c_train.shape))\n",
    "print('y1_train: {} | y2_train: {}'.format(y1_train.shape, y2_train.shape))\n",
    "print('-'*70)\n",
    "print('X_test:  {}     | c_test: {}'.format(X_test.shape, c_test.shape))\n",
    "print('y1_test: {} | y2_test: {}'.format(y1_test.shape, y2_test.shape))"
   ]
  },
  {
   "cell_type": "code",
   "execution_count": null,
   "metadata": {},
   "outputs": [],
   "source": [
    "losses = pd.read_csv('models/pix2vid-v2.csv')\n",
    "plt.figure(figsize=(8,4))\n",
    "plt.plot(losses.index, losses['loss'], label='Train')\n",
    "plt.plot(losses.index, losses['val_loss'], label='Validation')\n",
    "plt.xlabel('Epochs')\n",
    "plt.ylabel('Loss')\n",
    "plt.legend()\n",
    "plt.grid(True, which='both')\n",
    "plt.show()"
   ]
  },
  {
   "cell_type": "markdown",
   "metadata": {},
   "source": [
    "***\n",
    "### INFERENCE"
   ]
  },
  {
   "cell_type": "code",
   "execution_count": null,
   "metadata": {},
   "outputs": [],
   "source": [
    "from pix2vid2 import make_model"
   ]
  },
  {
   "cell_type": "code",
   "execution_count": null,
   "metadata": {},
   "outputs": [],
   "source": [
    "model = make_model(hidden=HIDDEN)\n",
    "model.load_weights('models/pix2vid-v2.weights.h5')"
   ]
  },
  {
   "cell_type": "code",
   "execution_count": null,
   "metadata": {},
   "outputs": [],
   "source": [
    "xtrain = tf.cast(X_train[:20], tf.float32)\n",
    "ctrain = tf.cast(c_train[:20], tf.float32)\n",
    "y1train = tf.cast(y1_train[:20], tf.float32)\n",
    "y2train = tf.cast(y2_train[:20], tf.float32)\n",
    "\n",
    "xtest = tf.cast(X_test[:20], tf.float32)\n",
    "ctest = tf.cast(c_test[:20], tf.float32)\n",
    "y1test = tf.cast(y1_test[:20], tf.float32)\n",
    "y2test = tf.cast(y2_test[:20], tf.float32)\n",
    "\n",
    "y1train_pred, y2train_pred = model.predict([xtrain, ctrain], verbose=False)\n",
    "y1train_pred, y2train_pred = np.array(y1train_pred), np.array(y2train_pred)\n",
    "\n",
    "y1test_pred, y2test_pred = model.predict([xtest, ctest], verbose=False)\n",
    "y1test_pred, y2test_pred = np.array(y1test_pred), np.array(y2test_pred)"
   ]
  },
  {
   "cell_type": "code",
   "execution_count": null,
   "metadata": {},
   "outputs": [],
   "source": [
    "fig, axs = plt.subplots(5, 10, figsize=(15,6), sharex=True, sharey=True)\n",
    "for i in range(5):\n",
    "    for j in range(10):\n",
    "        ax = axs[i,j]\n",
    "        im = ax.imshow(xtrain[j,...,i], cmap='turbo')\n",
    "        plt.colorbar(im, pad=0.04, fraction=0.046)\n",
    "        ax.set_title('R{}'.format(j)) if i == 0 else None\n",
    "plt.tight_layout()\n",
    "plt.show()\n",
    "\n",
    "fig, axs = plt.subplots(1, 10, figsize=(15,6), sharex=True, sharey=True)\n",
    "for j in range(10):\n",
    "    ax = axs[j]\n",
    "    im = ax.imshow(ctrain[j], cmap='turbo')\n",
    "    ax.set_xticks(range(5), labels=np.arange(1,6))\n",
    "    ax.set_yticks(range(20), labels=np.arange(1,21))\n",
    "    ax.set(title='R{}'.format(j))\n",
    "plt.tight_layout()\n",
    "plt.show()"
   ]
  },
  {
   "cell_type": "code",
   "execution_count": null,
   "metadata": {},
   "outputs": [],
   "source": [
    "sample = 11\n",
    "\n",
    "plt.figure(figsize=(12,4))\n",
    "for j in range(10):\n",
    "    plt.subplot(1, 10, j+1)\n",
    "    k = j*2+1\n",
    "    plt.imshow(y1train[sample, k, ..., -1], 'jet')\n",
    "    plt.title('t={}'.format(timesteps_inj[k]))\n",
    "plt.tight_layout()\n",
    "plt.show()\n",
    "\n",
    "plt.figure(figsize=(12,4))\n",
    "for j in range(10):\n",
    "    plt.subplot(1, 10, j+1)\n",
    "    k = j*2+1\n",
    "    plt.imshow(y1train_pred[sample, k, ..., -1], 'jet')\n",
    "    plt.title('t={}'.format(timesteps_inj[k]))\n",
    "plt.tight_layout()\n",
    "plt.show()"
   ]
  },
  {
   "cell_type": "code",
   "execution_count": null,
   "metadata": {},
   "outputs": [],
   "source": [
    "sample = 11\n",
    "\n",
    "plt.figure(figsize=(12,4))\n",
    "for j in range(5):\n",
    "    plt.subplot(1, 5, j+1)\n",
    "    plt.imshow(y2train[sample, j, ..., -1], 'jet')\n",
    "    plt.title('t={}'.format(timesteps_mon[j]))\n",
    "plt.tight_layout()\n",
    "plt.show()\n",
    "\n",
    "plt.figure(figsize=(12,4))\n",
    "for j in range(5):\n",
    "    plt.subplot(1, 5, j+1)\n",
    "    plt.imshow(y2train_pred[sample, j, ..., -1], 'jet')\n",
    "    plt.title('t={}'.format(timesteps_mon[j]))\n",
    "plt.tight_layout()\n",
    "plt.show()"
   ]
  },
  {
   "cell_type": "markdown",
   "metadata": {},
   "source": [
    "***\n",
    "# END"
   ]
  }
 ],
 "metadata": {
  "kernelspec": {
   "display_name": "flow",
   "language": "python",
   "name": "python3"
  },
  "language_info": {
   "codemirror_mode": {
    "name": "ipython",
    "version": 3
   },
   "file_extension": ".py",
   "mimetype": "text/x-python",
   "name": "python",
   "nbconvert_exporter": "python",
   "pygments_lexer": "ipython3",
   "version": "3.9.19"
  }
 },
 "nbformat": 4,
 "nbformat_minor": 2
}

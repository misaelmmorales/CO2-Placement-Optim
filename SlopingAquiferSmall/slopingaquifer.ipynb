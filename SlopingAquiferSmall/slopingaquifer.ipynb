{
 "cells": [
  {
   "cell_type": "code",
   "execution_count": 2,
   "metadata": {},
   "outputs": [],
   "source": [
    "import os\n",
    "from time import time\n",
    "from tqdm import tqdm\n",
    "\n",
    "import numpy as np\n",
    "import pandas as pd\n",
    "import scipy.io as sio\n",
    "import matplotlib.pyplot as plt\n",
    "\n",
    "import keras\n",
    "import tensorflow as tf\n",
    "\n",
    "NUM_REALIZATIONS = 929\n",
    "X_CHANNELS = 6\n",
    "Y_CHANNELS = 2\n",
    "NX  = 64\n",
    "NY  = 64\n",
    "NZ  = 5\n",
    "NTT = 40\n",
    "NT0 = 20\n",
    "\n",
    "sec2year   = 365.25 * 24 * 60 * 60\n",
    "Darcy      = 9.869233e-13\n",
    "psi2pascal = 6894.76\n",
    "co2_rho    = 686.5266\n",
    "milli      = 1e-3\n",
    "mega       = 1e6"
   ]
  },
  {
   "cell_type": "code",
   "execution_count": 4,
   "metadata": {},
   "outputs": [
    {
     "name": "stdout",
     "output_type": "stream",
     "text": [
      "------------------------------------------------------------\n",
      "----------------------- VERSION INFO -----------------------\n",
      "TF version: 2.15.0 | # Device(s) available: 2\n",
      "TF Built with CUDA? True | CUDA: 12.2 | cuDNN: 8\n",
      "PhysicalDevice(name='/physical_device:GPU:0', device_type='GPU')\n",
      "------------------------------------------------------------\n",
      "\n"
     ]
    }
   ],
   "source": [
    "def check_tf_gpu():\n",
    "    sys_info = tf.sysconfig.get_build_info()\n",
    "    version, cuda, cudnn = tf.__version__, sys_info[\"cuda_version\"], sys_info[\"cudnn_version\"]\n",
    "    count = len(tf.config.experimental.list_physical_devices())\n",
    "    name  = [device.name for device in tf.config.experimental.list_physical_devices('GPU')]\n",
    "    print('-'*60)\n",
    "    print('----------------------- VERSION INFO -----------------------')\n",
    "    print('TF version: {} | # Device(s) available: {}'.format(version, count))\n",
    "    print('TF Built with CUDA? {} | CUDA: {} | cuDNN: {}'.format(tf.test.is_built_with_cuda(), cuda, cudnn))\n",
    "    print(tf.config.list_physical_devices()[-1])\n",
    "    print('-'*60+'\\n')\n",
    "    return None\n",
    "\n",
    "check_tf_gpu()"
   ]
  },
  {
   "cell_type": "code",
   "execution_count": 5,
   "metadata": {},
   "outputs": [
    {
     "name": "stdout",
     "output_type": "stream",
     "text": [
      "timesteps: 40 | deltatime: [ 0.5 50. ]\n"
     ]
    }
   ],
   "source": [
    "deltatime = sio.loadmat('simulations/data/time_arr.mat', simplify_cells=True)['time_arr']\n",
    "timesteps = np.cumsum(deltatime)\n",
    "print('timesteps: {} | deltatime: {}'.format(len(timesteps), np.unique(deltatime)))"
   ]
  },
  {
   "cell_type": "code",
   "execution_count": 6,
   "metadata": {},
   "outputs": [
    {
     "name": "stdout",
     "output_type": "stream",
     "text": [
      "X: (929, 64, 64, 6) | c: (929, 20, 5)\n",
      "y1: (929, 20, 64, 64, 2) | y2: (929, 20, 64, 64, 1)\n",
      "porosity     - min: -0.62 | max: 2.35\n",
      "logperm      - min: -2.19 | max: 2.48\n",
      "poreVol      - min: -0.62 | max: 2.45\n",
      "tops         - min: 0.00 | max: 1.00\n",
      "heights      - min: 0.00 | max: 1.00\n",
      "controls     - min: 0.00 | max: 0.83\n",
      "pressure_1   - min: 0.08 | max: 0.91\n",
      "saturation_1 - min: 0.00 | max: 0.94\n",
      "saturation_2 - min: 0.00 | max: 0.94\n"
     ]
    }
   ],
   "source": [
    "# Load data\n",
    "X_data = np.load('simulations/data/X_data.npy')\n",
    "c_data = np.load('simulations/data/c_data.npy')\n",
    "y1_data = np.load('simulations/data/y1_data.npy')\n",
    "y2_data = np.load('simulations/data/y2_data.npy')\n",
    "print('X: {} | c: {}'.format(X_data.shape, c_data.shape))\n",
    "print('y1: {} | y2: {}'.format(y1_data.shape, y2_data.shape))\n",
    "\n",
    "# Normalize data\n",
    "pmu, psd = X_data[...,0].mean(), X_data[...,0].std() # porosity\n",
    "kmu, ksd = X_data[...,1].mean(), X_data[...,1].std() # permeability\n",
    "vmu, vsd = X_data[...,3].mean(), X_data[...,3].std() # poreVol\n",
    "tmi, tma = X_data[...,4].min(),  X_data[...,4].max() # tops\n",
    "hmi, hma = X_data[...,5].min(),  X_data[...,5].max() # heights\n",
    "cmi, cma = c_data.min(),         c_data.max()        # controls\n",
    "\n",
    "X_data[...,0] = (X_data[...,0] - pmu) / (3.33*psd)\n",
    "X_data[...,1] = (X_data[...,1] - kmu) / (3.33*ksd)\n",
    "X_data[...,3] = (X_data[...,3] - vmu) / (3.33*vsd)\n",
    "X_data[...,4] = (X_data[...,4] - tmi) / (tma - tmi)\n",
    "X_data[...,5] = (X_data[...,5] - hmi) / (hma - hmi)\n",
    "c_data = c_data / 2.0\n",
    "\n",
    "y1_data[...,0]  = y1_data[...,0]  / 50e3\n",
    "y1_data[...,-1] = y1_data[...,-1] / 0.73\n",
    "y2_data[...,-1] = y2_data[...,-1] / 0.73\n",
    "\n",
    "print('porosity     - min: {:.2f} | max: {:.2f}'.format(X_data[...,0].min(), X_data[...,0].max()))\n",
    "print('logperm      - min: {:.2f} | max: {:.2f}'.format(X_data[...,1].min(), X_data[...,1].max()))\n",
    "print('poreVol      - min: {:.2f} | max: {:.2f}'.format(X_data[...,3].min(), X_data[...,3].max()))\n",
    "print('tops         - min: {:.2f} | max: {:.2f}'.format(X_data[...,4].min(), X_data[...,4].max()))\n",
    "print('heights      - min: {:.2f} | max: {:.2f}'.format(X_data[...,5].min(), X_data[...,5].max()))\n",
    "print('controls     - min: {:.2f} | max: {:.2f}'.format(c_data.min(), c_data.max()))\n",
    "print('pressure_1   - min: {:.2f} | max: {:.2f}'.format(y1_data[...,0].min(), y1_data[...,0].max()))\n",
    "print('saturation_1 - min: {:.2f} | max: {:.2f}'.format(y1_data[...,-1].min(), y2_data[...,-1].max()))\n",
    "print('saturation_2 - min: {:.2f} | max: {:.2f}'.format(y2_data[...,-1].min(), y2_data[...,-1].max()))"
   ]
  },
  {
   "cell_type": "code",
   "execution_count": 7,
   "metadata": {},
   "outputs": [
    {
     "name": "stdout",
     "output_type": "stream",
     "text": [
      "X_train:  (800, 64, 64, 6)     | c_train: (800, 20, 5)\n",
      "y1_train: (800, 20, 64, 64, 2) | y2_train: (800, 20, 64, 64, 1)\n",
      "----------------------------------------------------------------------\n",
      "X_test:  (129, 64, 64, 6)     | c_test: (129, 20, 5)\n",
      "y1_test: (129, 20, 64, 64, 2) | y2_test: (129, 20, 64, 64, 1)\n"
     ]
    }
   ],
   "source": [
    "train_idx = np.random.choice(range(len(X_data)), 800, replace=False)\n",
    "test_idx  = np.setdiff1d(range(len(X_data)), train_idx)\n",
    "\n",
    "X_train = X_data[train_idx]\n",
    "c_train = c_data[train_idx]\n",
    "y1_train = y1_data[train_idx]\n",
    "y2_train = y2_data[train_idx]\n",
    "\n",
    "X_test = X_data[test_idx]\n",
    "c_test = c_data[test_idx]\n",
    "y1_test = y1_data[test_idx]\n",
    "y2_test = y2_data[test_idx]\n",
    "\n",
    "print('X_train:  {}     | c_train: {}'.format(X_train.shape, c_train.shape))\n",
    "print('y1_train: {} | y2_train: {}'.format(y1_train.shape, y2_train.shape))\n",
    "print('-'*70)\n",
    "print('X_test:  {}     | c_test: {}'.format(X_test.shape, c_test.shape))\n",
    "print('y1_test: {} | y2_test: {}'.format(y1_test.shape, y2_test.shape))"
   ]
  },
  {
   "cell_type": "code",
   "execution_count": 39,
   "metadata": {},
   "outputs": [
    {
     "data": {
      "image/png": "[encoded data removed]",
      "text/plain": [
       "<Figure size 800x400 with 1 Axes>"
      ]
     },
     "metadata": {},
     "output_type": "display_data"
    }
   ],
   "source": [
    "losses = pd.read_csv('pix2vid-v2.csv')\n",
    "plt.figure(figsize=(8,4))\n",
    "plt.plot(losses.index, losses['loss'], label='Train')\n",
    "plt.plot(losses.index, losses['val_loss'], label='Validation')\n",
    "plt.xlabel('Epochs')\n",
    "plt.ylabel('Loss')\n",
    "plt.legend()\n",
    "plt.grid(True, which='both')\n",
    "plt.show()"
   ]
  },
  {
   "cell_type": "markdown",
   "metadata": {},
   "source": [
    "***\n",
    "# END"
   ]
  }
 ],
 "metadata": {
  "kernelspec": {
   "display_name": "flow",
   "language": "python",
   "name": "python3"
  },
  "language_info": {
   "codemirror_mode": {
    "name": "ipython",
    "version": 3
   },
   "file_extension": ".py",
   "mimetype": "text/x-python",
   "name": "python",
   "nbconvert_exporter": "python",
   "pygments_lexer": "ipython3",
   "version": "3.9.19"
  }
 },
 "nbformat": 4,
 "nbformat_minor": 2
}
